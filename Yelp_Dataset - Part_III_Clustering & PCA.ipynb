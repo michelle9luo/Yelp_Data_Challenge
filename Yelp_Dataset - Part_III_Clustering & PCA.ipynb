{
 "cells": [
  {
   "cell_type": "markdown",
   "metadata": {},
   "source": [
    "# Yelp Data Challenge \n",
    "## Part III - Clustering and PCA"
   ]
  },
  {
   "cell_type": "code",
   "execution_count": 1,
   "metadata": {},
   "outputs": [],
   "source": [
    "import pandas as pd\n",
    "import numpy as np\n",
    "import matplotlib.pyplot as plt\n",
    "% matplotlib inline\n",
    "plt.style.use(\"ggplot\")"
   ]
  },
  {
   "cell_type": "code",
   "execution_count": 2,
   "metadata": {},
   "outputs": [],
   "source": [
    "df = pd.read_csv('yelp_dataset/last_3_years_restaurant_reviews.csv')"
   ]
  },
  {
   "cell_type": "code",
   "execution_count": 3,
   "metadata": {},
   "outputs": [
    {
     "data": {
      "text/html": [
       "<div>\n",
       "<style scoped>\n",
       "    .dataframe tbody tr th:only-of-type {\n",
       "        vertical-align: middle;\n",
       "    }\n",
       "\n",
       "    .dataframe tbody tr th {\n",
       "        vertical-align: top;\n",
       "    }\n",
       "\n",
       "    .dataframe thead th {\n",
       "        text-align: right;\n",
       "    }\n",
       "</style>\n",
       "<table border=\"1\" class=\"dataframe\">\n",
       "  <thead>\n",
       "    <tr style=\"text-align: right;\">\n",
       "      <th></th>\n",
       "      <th>Unnamed: 0</th>\n",
       "      <th>business_id</th>\n",
       "      <th>name</th>\n",
       "      <th>categories</th>\n",
       "      <th>avg_stars</th>\n",
       "      <th>cool</th>\n",
       "      <th>date</th>\n",
       "      <th>funny</th>\n",
       "      <th>review_id</th>\n",
       "      <th>stars</th>\n",
       "      <th>text</th>\n",
       "      <th>useful</th>\n",
       "      <th>user_id</th>\n",
       "    </tr>\n",
       "  </thead>\n",
       "  <tbody>\n",
       "    <tr>\n",
       "      <th>0</th>\n",
       "      <td>1</td>\n",
       "      <td>--9e1ONYQuAa-CB_Rrw7Tw</td>\n",
       "      <td>Delmonico Steakhouse</td>\n",
       "      <td>Steakhouses, Restaurants, Cajun/Creole</td>\n",
       "      <td>4.0</td>\n",
       "      <td>0</td>\n",
       "      <td>2017-02-14</td>\n",
       "      <td>0</td>\n",
       "      <td>VETXTwMw6qxzOVDlXfe6Tg</td>\n",
       "      <td>5</td>\n",
       "      <td>went for dinner tonight. Amazing my husband ha...</td>\n",
       "      <td>0</td>\n",
       "      <td>ymlnR8UeFvB4FZL56tCZsA</td>\n",
       "    </tr>\n",
       "    <tr>\n",
       "      <th>1</th>\n",
       "      <td>6</td>\n",
       "      <td>--9e1ONYQuAa-CB_Rrw7Tw</td>\n",
       "      <td>Delmonico Steakhouse</td>\n",
       "      <td>Steakhouses, Restaurants, Cajun/Creole</td>\n",
       "      <td>4.0</td>\n",
       "      <td>0</td>\n",
       "      <td>2017-12-04</td>\n",
       "      <td>0</td>\n",
       "      <td>S8-8uZ7fa5YbjnEtaW15ng</td>\n",
       "      <td>5</td>\n",
       "      <td>This was an amazing dinning experience! ORDER ...</td>\n",
       "      <td>0</td>\n",
       "      <td>9pSSL6X6lFpY3FCRLEH3og</td>\n",
       "    </tr>\n",
       "    <tr>\n",
       "      <th>2</th>\n",
       "      <td>14</td>\n",
       "      <td>--9e1ONYQuAa-CB_Rrw7Tw</td>\n",
       "      <td>Delmonico Steakhouse</td>\n",
       "      <td>Steakhouses, Restaurants, Cajun/Creole</td>\n",
       "      <td>4.0</td>\n",
       "      <td>0</td>\n",
       "      <td>2016-08-22</td>\n",
       "      <td>1</td>\n",
       "      <td>1nK5w0VNfDlnR3bOz13dJQ</td>\n",
       "      <td>5</td>\n",
       "      <td>My husband and I went there for lunch on a Sat...</td>\n",
       "      <td>1</td>\n",
       "      <td>gm8nNoA3uB4In5o_Hxpq3g</td>\n",
       "    </tr>\n",
       "    <tr>\n",
       "      <th>3</th>\n",
       "      <td>15</td>\n",
       "      <td>--9e1ONYQuAa-CB_Rrw7Tw</td>\n",
       "      <td>Delmonico Steakhouse</td>\n",
       "      <td>Steakhouses, Restaurants, Cajun/Creole</td>\n",
       "      <td>4.0</td>\n",
       "      <td>0</td>\n",
       "      <td>2016-09-13</td>\n",
       "      <td>0</td>\n",
       "      <td>N1Z93BthdJ7FT2p5S22jIA</td>\n",
       "      <td>3</td>\n",
       "      <td>Went for a nice anniversary dinner. Researched...</td>\n",
       "      <td>0</td>\n",
       "      <td>CEtidlXNyQzgJSdF1ubPFw</td>\n",
       "    </tr>\n",
       "    <tr>\n",
       "      <th>4</th>\n",
       "      <td>27</td>\n",
       "      <td>--9e1ONYQuAa-CB_Rrw7Tw</td>\n",
       "      <td>Delmonico Steakhouse</td>\n",
       "      <td>Steakhouses, Restaurants, Cajun/Creole</td>\n",
       "      <td>4.0</td>\n",
       "      <td>0</td>\n",
       "      <td>2016-08-08</td>\n",
       "      <td>0</td>\n",
       "      <td>ir-EVhHyWna7KqYWtj660g</td>\n",
       "      <td>5</td>\n",
       "      <td>Hands down the best meal and service I have ev...</td>\n",
       "      <td>0</td>\n",
       "      <td>9_BhDyzJYf2JwTD9TyXJ4g</td>\n",
       "    </tr>\n",
       "  </tbody>\n",
       "</table>\n",
       "</div>"
      ],
      "text/plain": [
       "   Unnamed: 0             business_id                  name  \\\n",
       "0           1  --9e1ONYQuAa-CB_Rrw7Tw  Delmonico Steakhouse   \n",
       "1           6  --9e1ONYQuAa-CB_Rrw7Tw  Delmonico Steakhouse   \n",
       "2          14  --9e1ONYQuAa-CB_Rrw7Tw  Delmonico Steakhouse   \n",
       "3          15  --9e1ONYQuAa-CB_Rrw7Tw  Delmonico Steakhouse   \n",
       "4          27  --9e1ONYQuAa-CB_Rrw7Tw  Delmonico Steakhouse   \n",
       "\n",
       "                               categories  avg_stars  cool        date  funny  \\\n",
       "0  Steakhouses, Restaurants, Cajun/Creole        4.0     0  2017-02-14      0   \n",
       "1  Steakhouses, Restaurants, Cajun/Creole        4.0     0  2017-12-04      0   \n",
       "2  Steakhouses, Restaurants, Cajun/Creole        4.0     0  2016-08-22      1   \n",
       "3  Steakhouses, Restaurants, Cajun/Creole        4.0     0  2016-09-13      0   \n",
       "4  Steakhouses, Restaurants, Cajun/Creole        4.0     0  2016-08-08      0   \n",
       "\n",
       "                review_id  stars  \\\n",
       "0  VETXTwMw6qxzOVDlXfe6Tg      5   \n",
       "1  S8-8uZ7fa5YbjnEtaW15ng      5   \n",
       "2  1nK5w0VNfDlnR3bOz13dJQ      5   \n",
       "3  N1Z93BthdJ7FT2p5S22jIA      3   \n",
       "4  ir-EVhHyWna7KqYWtj660g      5   \n",
       "\n",
       "                                                text  useful  \\\n",
       "0  went for dinner tonight. Amazing my husband ha...       0   \n",
       "1  This was an amazing dinning experience! ORDER ...       0   \n",
       "2  My husband and I went there for lunch on a Sat...       1   \n",
       "3  Went for a nice anniversary dinner. Researched...       0   \n",
       "4  Hands down the best meal and service I have ev...       0   \n",
       "\n",
       "                  user_id  \n",
       "0  ymlnR8UeFvB4FZL56tCZsA  \n",
       "1  9pSSL6X6lFpY3FCRLEH3og  \n",
       "2  gm8nNoA3uB4In5o_Hxpq3g  \n",
       "3  CEtidlXNyQzgJSdF1ubPFw  \n",
       "4  9_BhDyzJYf2JwTD9TyXJ4g  "
      ]
     },
     "execution_count": 3,
     "metadata": {},
     "output_type": "execute_result"
    }
   ],
   "source": [
    "df.head()"
   ]
  },
  {
   "cell_type": "markdown",
   "metadata": {},
   "source": [
    "## 1. Cluster the review text data for all the restaurants"
   ]
  },
  {
   "cell_type": "markdown",
   "metadata": {},
   "source": [
    "### Define feature variables, here is the text of the review"
   ]
  },
  {
   "cell_type": "code",
   "execution_count": 4,
   "metadata": {},
   "outputs": [
    {
     "data": {
      "text/plain": [
       "array([\"went for dinner tonight. Amazing my husband had lobster bisque and the T bone both were delish.I had the French onion soup and the pan seared duck. Cooked to perfection and I'm still raving about the flavor. If you are ever in Vegas this is a must try.\",\n",
       "       'This was an amazing dinning experience! ORDER THE PORK CHOP! I will definitely return.',\n",
       "       \"My husband and I went there for lunch on a Saturday. We had a physically exhausting week so we decided to treat ourselves. But it hasn't always been easy for our allergy whenever we ate out. So we called Delmonico ahead to see if they can accommodate our special needs. The lady who answered our call was very courteous and we felt comfortable to try after having some answers from her.\\nAs we arrived, the restaurant has a comfortable ambience. I wouldn't say it is grand or special but just comfortable. When it was time to order, the server was courteous regarding our allergy too and I believe the one who took care of us was a manager. He even checked with the chef to make sure the complimentary popover was okay for us to consume. We told them we are allergic to soy, corn, peanut, tomato and pork products, and some other stuff, and he had been very mindful and advised accordingly as we ordered, he did it so graciously that we didn't feel being put in a spot. Some other semi high end restaurants had given us a startled face or even an uncomfortable face when we mentioned our allergy, but this manager was super professional that he didn't make us feel crappy about our differences from others. So he made a potential stressful situation easy for us, very impressive.\\nTheir steak was aged in house by the restaurant and we think their aging was done fabulously as there was no rotten smell or taste in it. The manager even double checked with us and informed us that the beef was sourced from corn fed cows and asked if we would be able to tolerate that. And we made our decision to say yes and went ahead with the steak. Their steaks were very delicious. We actually asked for medium well with no seasoning and the steak still came out super delicious and juicy. So the good quality is in the steak itself and didn't need to depend on seasoning or being served bloodily. Again, very impressive.\\nAnyway, it was a delicious meal and we were well taken care of so we didn't get sick from any event of undisclosed allergens. We are very happy with this meal. We would go back when we have another time wanting to treat ourselves again. Hopefully the manager will be there again the next time we visit.\",\n",
       "       \"Went for a nice anniversary dinner. Researched a lot of steakhouses and thought this was reasonably priced (compared to others) for Vegas so thought we'd give it a shot. made reservations but was not crowded on a Monday night. We split the bbq shrimp which were very good for an appetizer. Then we each had salads. I ordered the filet mignon which was a small 6oz serving for $50. I could've easily eaten 2 of them. But the steak was very tender and nicely seasoned. Husband had the bone in ribeye which is what they are known for. He enjoyed it. We split the mashed potatoes which were very good, but kinda hard to screw those up. We each had 1 drink and the bill was $200. Service was good. They give you nice warm rolls which were tasty. We would go back, but we like trying new places and it will probably be a few years before we go back to Vegas anyways.\",\n",
       "       'Hands down the best meal and service I have ever had! We all did the three course special which was great and the portions were triple the size what I thought they would be! Michael and Drew were awesome waiters and made sure everything was perfect. I know my family will talk about that night for years to come!'],\n",
       "      dtype=object)"
      ]
     },
     "execution_count": 4,
     "metadata": {},
     "output_type": "execute_result"
    }
   ],
   "source": [
    "# Take the values of the column that contains review text data, save to a variable named \"documents\"\n",
    "# removing na reviews\n",
    "documents = df['text']\n",
    "indx = pd.notnull(documents)\n",
    "documents = documents[indx]\n",
    "documents = documents.values\n",
    "documents[:5]"
   ]
  },
  {
   "cell_type": "markdown",
   "metadata": {},
   "source": [
    "### Define target variable (any categorical variable that may be meaningful)"
   ]
  },
  {
   "cell_type": "markdown",
   "metadata": {},
   "source": [
    "#### For example, we are interested in perfect (5 stars) and imperfect (1-4 stars) rating"
   ]
  },
  {
   "cell_type": "code",
   "execution_count": 5,
   "metadata": {},
   "outputs": [
    {
     "data": {
      "text/plain": [
       "False    0.518158\n",
       "True     0.481842\n",
       "Name: is_pos_review, dtype: float64"
      ]
     },
     "execution_count": 5,
     "metadata": {},
     "output_type": "execute_result"
    }
   ],
   "source": [
    "# Make a column and take the values, save to a variable named \"target\"\n",
    "df['is_pos_review'] = (df['stars']>4)\n",
    "df['is_pos_review'].value_counts(normalize=True)"
   ]
  },
  {
   "cell_type": "code",
   "execution_count": 6,
   "metadata": {},
   "outputs": [
    {
     "data": {
      "text/plain": [
       "array([ True,  True,  True, False,  True,  True,  True,  True, False,\n",
       "        True])"
      ]
     },
     "execution_count": 6,
     "metadata": {},
     "output_type": "execute_result"
    }
   ],
   "source": [
    "# Make a column and take the values, save to a variable named \"target\"\n",
    "target = df['is_pos_review'].values\n",
    "target = target[indx]\n",
    "target[:10]"
   ]
  },
  {
   "cell_type": "code",
   "execution_count": 7,
   "metadata": {},
   "outputs": [],
   "source": [
    "indices = df.index"
   ]
  },
  {
   "cell_type": "markdown",
   "metadata": {},
   "source": [
    "#### We may want to look at the statistic of the target variable"
   ]
  },
  {
   "cell_type": "code",
   "execution_count": 8,
   "metadata": {
    "scrolled": true
   },
   "outputs": [
    {
     "data": {
      "text/plain": [
       "(558887, 558887)"
      ]
     },
     "execution_count": 8,
     "metadata": {},
     "output_type": "execute_result"
    }
   ],
   "source": [
    "# To be implemented\n",
    "documents.size,target.size"
   ]
  },
  {
   "cell_type": "code",
   "execution_count": 9,
   "metadata": {
    "scrolled": false
   },
   "outputs": [
    {
     "data": {
      "text/plain": [
       "0.4818415887290275"
      ]
     },
     "execution_count": 9,
     "metadata": {},
     "output_type": "execute_result"
    }
   ],
   "source": [
    "target.mean()"
   ]
  },
  {
   "cell_type": "markdown",
   "metadata": {},
   "source": [
    "##### Get positive reviews for clustering"
   ]
  },
  {
   "cell_type": "code",
   "execution_count": 10,
   "metadata": {},
   "outputs": [],
   "source": [
    "df_pos_reviews = df[df['is_pos_review']==True].copy()"
   ]
  },
  {
   "cell_type": "code",
   "execution_count": 11,
   "metadata": {},
   "outputs": [
    {
     "data": {
      "text/plain": [
       "(269295, 14)"
      ]
     },
     "execution_count": 11,
     "metadata": {},
     "output_type": "execute_result"
    }
   ],
   "source": [
    "df_pos_reviews.shape"
   ]
  },
  {
   "cell_type": "code",
   "execution_count": 12,
   "metadata": {},
   "outputs": [
    {
     "data": {
      "text/plain": [
       "array([\"went for dinner tonight. Amazing my husband had lobster bisque and the T bone both were delish.I had the French onion soup and the pan seared duck. Cooked to perfection and I'm still raving about the flavor. If you are ever in Vegas this is a must try.\",\n",
       "       'This was an amazing dinning experience! ORDER THE PORK CHOP! I will definitely return.',\n",
       "       \"My husband and I went there for lunch on a Saturday. We had a physically exhausting week so we decided to treat ourselves. But it hasn't always been easy for our allergy whenever we ate out. So we called Delmonico ahead to see if they can accommodate our special needs. The lady who answered our call was very courteous and we felt comfortable to try after having some answers from her.\\nAs we arrived, the restaurant has a comfortable ambience. I wouldn't say it is grand or special but just comfortable. When it was time to order, the server was courteous regarding our allergy too and I believe the one who took care of us was a manager. He even checked with the chef to make sure the complimentary popover was okay for us to consume. We told them we are allergic to soy, corn, peanut, tomato and pork products, and some other stuff, and he had been very mindful and advised accordingly as we ordered, he did it so graciously that we didn't feel being put in a spot. Some other semi high end restaurants had given us a startled face or even an uncomfortable face when we mentioned our allergy, but this manager was super professional that he didn't make us feel crappy about our differences from others. So he made a potential stressful situation easy for us, very impressive.\\nTheir steak was aged in house by the restaurant and we think their aging was done fabulously as there was no rotten smell or taste in it. The manager even double checked with us and informed us that the beef was sourced from corn fed cows and asked if we would be able to tolerate that. And we made our decision to say yes and went ahead with the steak. Their steaks were very delicious. We actually asked for medium well with no seasoning and the steak still came out super delicious and juicy. So the good quality is in the steak itself and didn't need to depend on seasoning or being served bloodily. Again, very impressive.\\nAnyway, it was a delicious meal and we were well taken care of so we didn't get sick from any event of undisclosed allergens. We are very happy with this meal. We would go back when we have another time wanting to treat ourselves again. Hopefully the manager will be there again the next time we visit.\",\n",
       "       'Hands down the best meal and service I have ever had! We all did the three course special which was great and the portions were triple the size what I thought they would be! Michael and Drew were awesome waiters and made sure everything was perfect. I know my family will talk about that night for years to come!',\n",
       "       'ABSOLUTE MUST IN VEGAS! Loved everything my boyfriend and I got and the service was amazing! Seriously this place is amazing'],\n",
       "      dtype=object)"
      ]
     },
     "execution_count": 12,
     "metadata": {},
     "output_type": "execute_result"
    }
   ],
   "source": [
    "documents_pos = df_pos_reviews['text']\n",
    "indx2 = pd.notnull(documents_pos)\n",
    "documents_pos = documents_pos[indx2]\n",
    "documents_pos = documents_pos.values\n",
    "documents_pos[:5]"
   ]
  },
  {
   "cell_type": "code",
   "execution_count": 13,
   "metadata": {},
   "outputs": [
    {
     "data": {
      "text/plain": [
       "array([ True,  True,  True,  True,  True,  True,  True,  True,  True,\n",
       "        True])"
      ]
     },
     "execution_count": 13,
     "metadata": {},
     "output_type": "execute_result"
    }
   ],
   "source": [
    "target_pos = df_pos_reviews['is_pos_review'].values\n",
    "target_pos = target_pos[indx2]\n",
    "target_pos[:10]"
   ]
  },
  {
   "cell_type": "code",
   "execution_count": 14,
   "metadata": {},
   "outputs": [],
   "source": [
    "ind_pos = df_pos_reviews.index"
   ]
  },
  {
   "cell_type": "markdown",
   "metadata": {},
   "source": [
    "### Create training dataset and test dataset"
   ]
  },
  {
   "cell_type": "code",
   "execution_count": 15,
   "metadata": {},
   "outputs": [
    {
     "name": "stderr",
     "output_type": "stream",
     "text": [
      "/Users/jieluo/anaconda2/lib/python2.7/site-packages/sklearn/cross_validation.py:41: DeprecationWarning: This module was deprecated in version 0.18 in favor of the model_selection module into which all the refactored classes and functions are moved. Also note that the interface of the new CV iterators are different from that of this module. This module will be removed in 0.20.\n",
      "  \"This module will be removed in 0.20.\", DeprecationWarning)\n"
     ]
    }
   ],
   "source": [
    "from sklearn.cross_validation import train_test_split"
   ]
  },
  {
   "cell_type": "code",
   "execution_count": 16,
   "metadata": {},
   "outputs": [],
   "source": [
    "# documents is your X, target is your y\n",
    "# Now split the data to training set and test set\n",
    "# You may want to start with a big \"test_size\", since large training set can easily crash your laptop.\n",
    "documents_train,documents_test,target_train,target_test,indices_train,indices_test = train_test_split(documents,target,indices,test_size=0.2, random_state=0)"
   ]
  },
  {
   "cell_type": "markdown",
   "metadata": {},
   "source": [
    "### Get NLP representation of the documents\n",
    "\n",
    "#### Fit TfidfVectorizer with training data only, then tranform all the data to tf-idf"
   ]
  },
  {
   "cell_type": "code",
   "execution_count": 17,
   "metadata": {},
   "outputs": [],
   "source": [
    "from sklearn.feature_extraction.text import TfidfVectorizer"
   ]
  },
  {
   "cell_type": "code",
   "execution_count": 18,
   "metadata": {},
   "outputs": [],
   "source": [
    "# Create TfidfVectorizer, and name it vectorizer, choose a reasonable max_features, e.g. 1000\n",
    "vectorizer = TfidfVectorizer(stop_words='english',max_features=1000,min_df=1)"
   ]
  },
  {
   "cell_type": "code",
   "execution_count": 19,
   "metadata": {},
   "outputs": [],
   "source": [
    "# Train the model with your training data\n",
    "X_train = vectorizer.fit_transform(documents_train).toarray()"
   ]
  },
  {
   "cell_type": "code",
   "execution_count": 20,
   "metadata": {},
   "outputs": [],
   "source": [
    "# Get the vocab of your tfidf\n",
    "features_name = vectorizer.get_feature_names()"
   ]
  },
  {
   "cell_type": "code",
   "execution_count": 21,
   "metadata": {},
   "outputs": [],
   "source": [
    "# Use the trained model to transform test\n",
    "X_test = vectorizer.transform(documents_test).toarray()"
   ]
  },
  {
   "cell_type": "code",
   "execution_count": 22,
   "metadata": {},
   "outputs": [],
   "source": [
    "# Use the trained model to transform all the reviews\n",
    "X_all = vectorizer.transform(documents).toarray()"
   ]
  },
  {
   "cell_type": "markdown",
   "metadata": {},
   "source": [
    "### Cluster reviews with KMeans"
   ]
  },
  {
   "cell_type": "markdown",
   "metadata": {},
   "source": [
    "#### Fit k-means clustering with the training vectors and apply it on all the data"
   ]
  },
  {
   "cell_type": "code",
   "execution_count": 23,
   "metadata": {},
   "outputs": [
    {
     "data": {
      "text/plain": [
       "KMeans(algorithm='auto', copy_x=True, init='k-means++', max_iter=300,\n",
       "    n_clusters=2, n_init=10, n_jobs=1, precompute_distances='auto',\n",
       "    random_state=42, tol=0.0001, verbose=0)"
      ]
     },
     "execution_count": 23,
     "metadata": {},
     "output_type": "execute_result"
    }
   ],
   "source": [
    "# To be implemented\n",
    "from sklearn.cluster import KMeans\n",
    "kmeans = KMeans(n_clusters=2,random_state=42)\n",
    "kmeans.fit(X_train)"
   ]
  },
  {
   "cell_type": "markdown",
   "metadata": {},
   "source": [
    "#### Make predictions on all your data"
   ]
  },
  {
   "cell_type": "code",
   "execution_count": 24,
   "metadata": {},
   "outputs": [],
   "source": [
    "# To be implemented\n",
    "assigned_cluster_train = kmeans.predict(X_train)\n",
    "assigned_cluster_test = kmeans.predict(X_test)\n",
    "assigned_cluster_all = kmeans.predict(X_all)"
   ]
  },
  {
   "cell_type": "markdown",
   "metadata": {},
   "source": [
    "#### Inspect the centroids\n",
    "To find out what \"topics\" Kmeans has discovered we must inspect the centroids. Print out the centroids of the Kmeans clustering.\n",
    "\n",
    "   These centroids are simply a bunch of vectors.  To make any sense of them we need to map these vectors back into our 'word space'.  Think of each feature/dimension of the centroid vector as representing the \"average\" review or the average occurances of words for that cluster."
   ]
  },
  {
   "cell_type": "code",
   "execution_count": 25,
   "metadata": {},
   "outputs": [
    {
     "name": "stdout",
     "output_type": "stream",
     "text": [
      "cluster centers:\n",
      "[[0.00319144 0.01038693 0.00231909 ... 0.0019165  0.0031673  0.00566268]\n",
      " [0.00076087 0.00436777 0.00151902 ... 0.0010408  0.00278107 0.00700504]]\n"
     ]
    }
   ],
   "source": [
    "# To be implemented\n",
    "print(\"cluster centers:\")\n",
    "print(kmeans.cluster_centers_)"
   ]
  },
  {
   "cell_type": "markdown",
   "metadata": {},
   "source": [
    "#### Find the top 10 features for each cluster.\n",
    "For topics we are only really interested in the most present words, i.e. features/dimensions with the greatest representation in the centroid.  Print out the top ten words for each centroid.\n",
    "\n",
    "* Sort each centroid vector to find the top 10 features\n",
    "* Go back to your vectorizer object to find out what words each of these features corresponds to.\n"
   ]
  },
  {
   "cell_type": "code",
   "execution_count": 26,
   "metadata": {},
   "outputs": [
    {
     "name": "stdout",
     "output_type": "stream",
     "text": [
      "top features for each cluster:\n",
      "0: good, food, place, like, just, time, ordered, order, chicken, really\n",
      "1: great, food, service, place, amazing, good, best, love, friendly, vegas\n"
     ]
    }
   ],
   "source": [
    "# To be implemented\n",
    "top_centroids = kmeans.cluster_centers_.argsort()[:,-1:-11:-1]\n",
    "print(\"top features for each cluster:\")\n",
    "for num, centroid in enumerate(top_centroids):\n",
    "    print(\"%d: %s\" % (num, \", \".join(features_name[i] for i in centroid)))"
   ]
  },
  {
   "cell_type": "markdown",
   "metadata": {},
   "source": [
    "#### Try different k\n",
    "If we set k == to a different number, how does the top features change?"
   ]
  },
  {
   "cell_type": "code",
   "execution_count": 27,
   "metadata": {},
   "outputs": [],
   "source": [
    "# To be implemented\n",
    "from sklearn.cluster import KMeans\n",
    "kmeans2 = KMeans(n_clusters=5,random_state=42)\n",
    "kmeans2.fit(X_train)\n",
    "assigned_cluster_train2 = kmeans2.predict(X_train)\n",
    "assigned_cluster_test2 = kmeans2.predict(X_test)"
   ]
  },
  {
   "cell_type": "code",
   "execution_count": 28,
   "metadata": {},
   "outputs": [],
   "source": [
    "assigned_cluster_all2 = kmeans2.predict(X_all)"
   ]
  },
  {
   "cell_type": "code",
   "execution_count": 29,
   "metadata": {},
   "outputs": [
    {
     "name": "stdout",
     "output_type": "stream",
     "text": [
      "top features for each cluster:\n",
      "0: food, order, time, just, service, minutes, like, came, didn, place\n",
      "1: pizza, crust, good, place, great, cheese, slice, best, order, just\n",
      "2: great, food, service, place, amazing, good, friendly, staff, love, definitely\n",
      "3: sushi, rolls, place, roll, ayce, great, good, fresh, service, fish\n",
      "4: good, place, food, chicken, like, best, vegas, delicious, really, just\n"
     ]
    }
   ],
   "source": [
    "# To be implemented\n",
    "top_centroids = kmeans2.cluster_centers_.argsort()[:,-1:-11:-1]\n",
    "print(\"top features for each cluster:\")\n",
    "for num, centroid in enumerate(top_centroids):\n",
    "    print(\"%d: %s\" % (num, \", \".join(features_name[i] for i in centroid)))"
   ]
  },
  {
   "cell_type": "markdown",
   "metadata": {},
   "source": [
    "#### Print out the rating and review of a random sample of the reviews assigned to each cluster to get a sense of the cluster."
   ]
  },
  {
   "cell_type": "markdown",
   "metadata": {},
   "source": [
    "##### Rating and reveiw of random sample using n_clusters = 2"
   ]
  },
  {
   "cell_type": "code",
   "execution_count": 30,
   "metadata": {},
   "outputs": [
    {
     "name": "stdout",
     "output_type": "stream",
     "text": [
      "cluster 0:\n",
      "rating: 4.000000\n",
      "       I am a fan of this little place. The pizza is like they say, \"Manhattan,\" in style, appearance, and even a little bit in taste. (You can't really get a New York-tasting pizza without New York water, which is the trick. I say this as a native-born New Yorker.)  The people working there are wonderful, and will remember you, if not by name, then by face and voice on the telephone. The little dive is remarkably clean and put together, though nothing fancy.  The prices are what you would expect, and the portions are good. If you are in Summerlin and hankering for a pizza, (or a Gyro or Greek salad), check this place out.\n",
      "rating: 1.000000\n",
      "       Yuck, food is so gross here. I guess you get what you pay for because Aria cafe is so much expensive but the food is so much better\n",
      "rating: 2.000000\n",
      "       So disappointing: I ordered a Hell's burger to go on a Sunday afternoon. Restaurant was busy, but nothing out of the ordinary for what they are used to. The order took about an hour (which was totally Ok and they prepared me for). However... when a person spends $18 on a burger (without any sides), they expect it to have some good flavor and at LEAST be hot! I was waiting for the burger at the nearby Extra Bar and as soon as I received the text notice, I made the 30 second walk to go pick it up. When I sat down to eat it (30 seconds later) I was sadly disappointed by it's lack of flavor and the fact that it MIGHT have been luke warm(ok, nope... totally cold). I tried to convince myself that it was better than it was (since it was a little $$$), but in the end... lesson learned... In-n-out burger tops Gordon Ramsey burger any day of the week\n",
      "cluster 1:\n",
      "rating: 5.000000\n",
      "       Got to love this place not only because they are open till 2 a.m. but they are clean and fast\n",
      "rating: 4.000000\n",
      "       Delicious food. Friendly staff. Well priced for the quantity and quality of food. Enjoyed the Tandoori Sizzler.\n",
      "\n",
      "The only reason I won't give it 5 stars is because the place is not always consistent in delivery of flavors, customer service, etc. However, if that changes I will gladly give 5 stars!\n",
      "\n",
      "Do not be afraid - the lunch buffet is consistently 4/5 stars. Depending on the cook, it can be a 5/5. Two people can eat for just over $20. Naan is included, and they will make a few extra side items for you if you get to the buffet in the last hour and things are missing.\n",
      "\n",
      "One problem I will point out with the buffet is the white rice - test it before you just start chewing. Towards the end of the buffet service, it can get very hard. They are nice enough that if you ask for a small bowl they'd probably give it to you. \n",
      "\n",
      "They have a deal with Yelp, where if you check in, you get a free soft drink.\n",
      "\n",
      "The prices are totally worth it. We've eaten at two other Indian places within a mile of here (one in the Rio hotel and one in the plaza across from the Hard Rock) and both were of similar quality and taste to India Masala. Here, you will get better service and the same quality food for a great price.\n",
      "\n",
      "I would recommend this place to friends and family when they visit, so I suggest you check it out!\n",
      "rating: 5.000000\n",
      "       Best coffee house in town! I love that they offer almond milk. All of the staff are super friendly and nice. They are always teeing to help me find the perfect drink. \n",
      "\n",
      "I also love all the retro books and the new expansion looks great. If you check in to social media they'll give you an extra stamp towards a few drink. \n",
      "\n",
      "This place is definitely worth a try.\n"
     ]
    }
   ],
   "source": [
    "# To be implemented\n",
    "for i in range(kmeans.n_clusters):\n",
    "    cluster = indices_test[assigned_cluster_test==i]\n",
    "    sample_reviews = np.random.choice(cluster, 3, replace=False)\n",
    "    print(\"cluster %d:\" % i)\n",
    "    for review in sample_reviews:\n",
    "        print(\"rating: %f\" % df.loc[review]['stars'])\n",
    "        print(\"       %s\" % df.loc[review]['text'])"
   ]
  },
  {
   "cell_type": "markdown",
   "metadata": {},
   "source": [
    "##### Rating and reveiw of random sample using n_clusters=5"
   ]
  },
  {
   "cell_type": "code",
   "execution_count": 31,
   "metadata": {
    "scrolled": false
   },
   "outputs": [
    {
     "name": "stdout",
     "output_type": "stream",
     "text": [
      "cluster 0:\n",
      "rating: 1.000000\n",
      "       Worst Mediterranean food ever!  I would eat Mediterranean food ANYWHERE ELSE but here.  My friend and I both ordered a platter each and some hummus,  everything was dry and not tasty.   We left disappointed and angry at how bad the food was.\n",
      "rating: 3.000000\n",
      "       My husband and I truly enjoy eating our dinner at the beautiful bar at least once a week.  In the past few months we have been turned off by the very loud singer that starts at 5pm.  She is good, good and LOUD!  The servers are having a difficult time hearing the customers and the customers have a difficult time carrying on a normal conversation.  Last time we were there a few weeks ago, I used earplugs.   We went to Red Rock on Thursday to eat at TBones, started in the door and quickly made a U Turn due to the high sound volume of the singer.  We ended up having a nice meal at the bar in Libre.  This was the same scenario as last week.  I'm sorry to say until the music sound level is dropped will be be dining elsewhere .    The service at the bar is amazing, just not worth the damage to my eardrums.\n",
      "rating: 1.000000\n",
      "       Ok so we were there a bit after 11 and went in to be told by the one guy in the kitchen that they don't open till noon!!  How about having the sign on the door and your website say that!!  Or maybe have the door locked!  Very disappointed as we really like your food.\n",
      "cluster 1:\n",
      "rating: 5.000000\n",
      "       Best pizza around and a very diverse menu.  The Gyro is highly recommended.  It's not in the best location, the area is pretty ghetto and the people around are not very hospitable.  The staff however are very friendly and helpful.\n",
      "rating: 1.000000\n",
      "       This used to be a GREAT pizza place, all natural and organic....NO LONGER ORGANIC OR NATURAL.\n",
      "\n",
      "They are under new management/ownership and it is a disaster.  I called in an order last night, the guy asked for my address at least 3 times and then started talking to someone else instead of listening to me, so I had to keep starting over.  \n",
      "\n",
      "After about 45 minutes I get a call from a guy asking me if I ordered pizza.  I said yes I ordered two.  He asked me for my address because the original guy who asked me for my address several times got the street wrong.\n",
      "\n",
      "I told this guy and he said he would be right here.  When he arrived he asked me how I heard about this place and I told him we have ordered from here several times.  His response was wow, I never delivered here before???\n",
      "\n",
      "The pizza's did not look like the picture on the front page here, the ingredients were all over the box.  Now I find out they are NO LONGER using Natural & Organic ingredients?  Last time we will EVER order from this place.  I cannot say they are even like all the rest now, they are worse.  Sad to see the original owner gone, she ran a classy place, cared about the customers and tried to make sure everyone had an enjoyable experience.\n",
      "rating: 3.000000\n",
      "       Waitresses have been great down to earth ladies, prices are fine and on point with me, gluten free and vegan options is awesome, food tastes great. So why the 3 rating you ask???  Well they have a manger who has worked at this location for 10 yrs who just simply has no social skills and whom I was most unimpressed with.....When someone orders a pizza that has gluten free crust and vegan cheese please do not question the customer when dropping off the order at the table asking \"Excuse me dose your cheese have an allergy ?\" \n",
      " Needless to say the look on my face had a WTF moment. He repeated again \"Dose your cheese have an allergy?\" And repeated allergy, allergy....\n",
      "   My advice to the gentleman manager is to learn to phrase his question in English a bit more properly. The question was none of his dam business why or how I ever order my pizza. He seems like a major douche bag.\n",
      "    At the end of the day that's my only qualm with the resterant. Everything else is great. Even the bathrooms. And I am a hard sell for any business.\n",
      "cluster 2:\n",
      "rating: 5.000000\n",
      "       Grabbed a Bobbie & an Italian sub for dinner & was not disappointed! Very great tasting subs! Always a winner with the kids too!!\n",
      "rating: 5.000000\n",
      "       SO DELICIOUS authentic and a great vibe! Love it!! We ordered the meat and veggie combo with the lamb tibs, we shared with 4 people and it was more than enough. We will definitely be coming back.\n",
      "rating: 5.000000\n",
      "       This is a very unique restaurant. I have been there 3 times and had a wonderful experience.   Food is delicious and all staff members are attentive and friendly.\n",
      "cluster 3:\n",
      "rating: 5.000000\n",
      "       Great sushi, ma favorite roll are \" angry wife , roppengi \". For dessert the chocolate cake is good.\n",
      "rating: 5.000000\n",
      "       We came in for Sunday brunch, and we enjoyed everything we ordered, including the service, our server Alex was really attentive, and nice! We ordered the oysters, yellowtail jalapeño, bulgogi rollers, sushi tower, and fish & chips! It was all delicious! And my favorite was the sushi tower and the bulgogi roller !!!\n",
      "rating: 3.000000\n",
      "       The service is very fast and friendly. Sushi is okay but it will not be one of my go to's. the rice is a lot. The fish is ok but not as fresh as the ones I am accustomed to. For the area it's prob among the better ones. I tried to try a bit of everything but it's just not enough to get me back. The fried shrimp heads were harder than I wanted.\n",
      "cluster 4:\n",
      "rating: 2.000000\n",
      "       Overrated ...two stars because the line was long but they work fast and have a system... Not sure how the original White Castle taste like but the meat looks like thinly sliced mystery meat with soaked grilled onions and one pickle.... If you must try at least get the cheese slider the cheese gives some flavor.\n",
      "rating: 5.000000\n",
      "       A wonderful dining experience from start to finish. We enjoyed the weekend brunch and it was very impressive. Our server Robert was perfect and such a nice guy. The sausage frittata was delicious and they did not mind special requests.\n",
      "rating: 5.000000\n",
      "       Sad news, I'm moving. The good news, I've been on a \"Vegas Foodie Bucketlist, was\"  and the Flock and Fowl was just checked off the list. \n",
      "\n",
      "This chicken place is in an old business park that my mom used to work in back in the 90's; the location is off-putting, but the food is ridiculous. They offer three main items on the menu, Hainanese Chicken Rice, Thai Caramel Chicken Wings, and Night Market Bao Buns which is what I went with and they were amazing. Perfectly fried, super juicy, and the breading was something that would make the Colonel second guess his career choice. I honestly wanted to eat about three more these things, but decided not get Bao Bun wasted. \n",
      "\n",
      "The side of the rice and egg was the perfect addition to the meal, the rice was just a tad on the sticky side, which I love, and the egg made for the perfect topping. Flock and Fowl are truly one of a kind and should be treated as so. I'm already planning my next visit, Hainanese Chicken Rice, I see you!\n"
     ]
    }
   ],
   "source": [
    "# To be implemented\n",
    "for i in range(kmeans2.n_clusters):\n",
    "    cluster = indices[assigned_cluster_all2==i]\n",
    "    sample_reviews = np.random.choice(cluster, 3, replace=False)\n",
    "    print(\"cluster %d:\" % i)\n",
    "    for review in sample_reviews:\n",
    "        print(\"rating: %f\" % df.loc[review]['stars'])\n",
    "        print(\"       %s\" % df.loc[review]['text'])"
   ]
  },
  {
   "cell_type": "markdown",
   "metadata": {},
   "source": [
    "## 2. Cluster positive reviews"
   ]
  },
  {
   "cell_type": "code",
   "execution_count": 32,
   "metadata": {},
   "outputs": [],
   "source": [
    "doc_pos_train,doc_pos_test,target_pos_train,target_pos_test,ind_pos_train,ind_pos_test = train_test_split(documents_pos,target_pos,ind_pos,test_size=0.2, random_state=0)"
   ]
  },
  {
   "cell_type": "code",
   "execution_count": 33,
   "metadata": {},
   "outputs": [],
   "source": [
    "vectorizer = TfidfVectorizer(stop_words='english',max_features=1000,min_df=1)\n",
    "X_pos_train = vectorizer.fit_transform(doc_pos_train).toarray()\n",
    "features_name = vectorizer.get_feature_names()\n",
    "X_pos_all = vectorizer.transform(documents_pos).toarray()"
   ]
  },
  {
   "cell_type": "code",
   "execution_count": 34,
   "metadata": {},
   "outputs": [
    {
     "data": {
      "text/plain": [
       "KMeans(algorithm='auto', copy_x=True, init='k-means++', max_iter=300,\n",
       "    n_clusters=2, n_init=10, n_jobs=1, precompute_distances='auto',\n",
       "    random_state=42, tol=0.0001, verbose=0)"
      ]
     },
     "execution_count": 34,
     "metadata": {},
     "output_type": "execute_result"
    }
   ],
   "source": [
    "# To be implemented\n",
    "from sklearn.cluster import KMeans\n",
    "kmeans_pos = KMeans(n_clusters=2,random_state=42)\n",
    "kmeans_pos.fit(X_pos_train)"
   ]
  },
  {
   "cell_type": "code",
   "execution_count": 35,
   "metadata": {},
   "outputs": [],
   "source": [
    "assigned_cluster_all_pos = kmeans_pos.predict(X_pos_all)"
   ]
  },
  {
   "cell_type": "code",
   "execution_count": 36,
   "metadata": {},
   "outputs": [
    {
     "name": "stdout",
     "output_type": "stream",
     "text": [
      "cluster centers:\n",
      "[[0.00149808 0.00784167 0.00228761 ... 0.00142401 0.00474485 0.00827277]\n",
      " [0.00070676 0.00495421 0.00149898 ... 0.00115746 0.00208424 0.00602964]]\n"
     ]
    }
   ],
   "source": [
    "# To be implemented\n",
    "print(\"cluster centers:\")\n",
    "print(kmeans_pos.cluster_centers_)"
   ]
  },
  {
   "cell_type": "code",
   "execution_count": 37,
   "metadata": {},
   "outputs": [
    {
     "name": "stdout",
     "output_type": "stream",
     "text": [
      "top features for each cluster:\n",
      "0: place, good, food, best, vegas, delicious, amazing, time, love, just\n",
      "1: great, food, service, place, amazing, good, friendly, staff, excellent, awesome\n"
     ]
    }
   ],
   "source": [
    "# To be implemented\n",
    "top_centroids = kmeans_pos.cluster_centers_.argsort()[:,-1:-11:-1]\n",
    "print(\"top features for each cluster:\")\n",
    "for num, centroid in enumerate(top_centroids):\n",
    "    print(\"%d: %s\" % (num, \", \".join(features_name[i] for i in centroid)))"
   ]
  },
  {
   "cell_type": "code",
   "execution_count": 38,
   "metadata": {},
   "outputs": [
    {
     "name": "stdout",
     "output_type": "stream",
     "text": [
      "cluster 0:\n",
      "rating: 5.000000\n",
      "category: Asian Fusion, Lounges, Bars, Beer Bar, Barbeque, Restaurants, Nightlife, Karaoke\n",
      "       This karaoke place is hands down the best. Best service, cool rooms, cheap drinks. Good times all around\n",
      "rating: 5.000000\n",
      "category: American (Traditional), Restaurants, Burgers, Breakfast & Brunch, Sandwiches\n",
      "       Excellent customer service from the time we were greeted until we left. Close enough to the strip to make the drive but far enough to avoid the traffic\n",
      "rating: 5.000000\n",
      "category: Steakhouses, Restaurants\n",
      "       Being an unabashed carnivore who has a passion for the fascinating ,and sometimes sordid, history of Las Vegas, The Steakhouse at Circus Circus was a truly memorable experience that seems to have been tailor made for me!\n",
      "\n",
      "(OK, I just flashed back to the Yelp! South Park episode where Kyle's dad goes into these long winded and terrifically verbose reviews. My bad.)\n",
      "\n",
      "Anyways, back to this incredible experience! \n",
      "\n",
      "Having to navigate through Circus Circus and the hordes of kids was pretty annoying, but once you step through that archway it almost feels like you are being transported to a different time. They definitely kick up the a/c in there and you could feel it instantly!\n",
      "\n",
      "The room is a throwback to classic, old school Vegas. I LOVE IT! Lots of dark oaks, dim lighting, and romantic music are some of the first things that hit my senses. The other thing....\n",
      "\n",
      "...the incredible aroma of steak being perfectly cooked and marinated! Wow! It smelled so good in there! \n",
      "\n",
      "Nancy was our server this evening and she was outstanding! Very friendly and attentive service, without being at all intrusive. When we return(which is about a 100% guarantee at this point), we will certainly request her! \n",
      "\n",
      "We were seated promptly and within 2 minutes were brought a bread bowl with butter and served our drinks. Service was done in a very timely fashion very little lull between items. The bread was warm and soft, so the butter just melted perfectly inside. I didn't want to fill up on bread so I just had a couple of pieces.\n",
      "\n",
      "As for the main course, we both opted for the New York Strip Steak ($56), which came with a choice of house salad or  black bean soup (I had the house salad) and garlic mashed potatoes or a baked potato. \n",
      "\n",
      "The garlic mashed potatoes were so good! Compared to the puny and bland portion we recieved at another strip restaurant the previous week, this really hit the spot!\n",
      "\n",
      "But the steak! Oh, that NY Strip steak was so delectable! It was so tender and juicy, the knife just fell to the plate with ease with each cut. We were both wildly impressed with how flavorful it was! Without a doubt, one of the best steaks i've ever had in my life!\n",
      "\n",
      "Service was beyond outstanding! Our glasses were never empty the entire meal! It really made the difference between having a good meal and an experience!\n",
      "\n",
      "Nancy asked if we would like to have desert, but we were totally stuffed and had to throw in the towel at that point! But, rest assured, we will be back! Oh, we will be back!\n",
      "\n",
      "\n",
      "5 stars! \n",
      "Woohoo! As good as it gets!\n",
      "cluster 1:\n",
      "rating: 5.000000\n",
      "category: Restaurants, Asian Fusion, Barbeque, Filipino\n",
      "       This is my go to restaurant for filipino food in Vegas. They have fresh tasty filipino food to order, friendly service, and reasonably priced. All you can drink sago gulaman and cantaloupe drinks ftw!\n",
      "rating: 5.000000\n",
      "category: Vegan, Food, Restaurants, Vegetarian, Beer, Wine & Spirits, Burgers, Mexican, Nightlife, Bars\n",
      "       Great pork tacos. Great guacamole. Our waiter Ollie was awesome. Good service and good food.\n",
      "rating: 5.000000\n",
      "category: Nightlife, Bars, Cocktail Bars, French, Steakhouses, Restaurants\n",
      "       An amazing place for a romantic night out in Vegas, a proposal, and just fun night with friends. \n",
      "\n",
      "Love the view at sunset and the great view of the Bellagio Water show. \n",
      "\n",
      "Food is amazing!! Drinks from the bar are good as well. Menu is pricey but the food is great and you are paying for the view as well. \n",
      "\n",
      "You don't need to wear a suit, but a nice pair of khakis or black dress pants and a collared shirt would be very appropriate. \n",
      "\n",
      "Make sure to pay for the photo they will take of you and your date and/or party. They come out amazing!\n"
     ]
    }
   ],
   "source": [
    "# To be implemented\n",
    "for i in range(kmeans_pos.n_clusters):\n",
    "    cluster = ind_pos[assigned_cluster_all_pos==i]\n",
    "    sample_reviews = np.random.choice(cluster, 3, replace=False)\n",
    "    print(\"cluster %d:\" % i)\n",
    "    for review in sample_reviews:\n",
    "        print(\"rating: %f\" % df_pos_reviews.loc[review]['stars'])\n",
    "        print(\"category: %s\" % df_pos_reviews.loc[review]['categories'])\n",
    "        print(\"       %s\" % df_pos_reviews.loc[review]['text'])"
   ]
  },
  {
   "cell_type": "code",
   "execution_count": 39,
   "metadata": {},
   "outputs": [
    {
     "data": {
      "text/plain": [
       "KMeans(algorithm='auto', copy_x=True, init='k-means++', max_iter=300,\n",
       "    n_clusters=8, n_init=10, n_jobs=1, precompute_distances='auto',\n",
       "    random_state=42, tol=0.0001, verbose=0)"
      ]
     },
     "execution_count": 39,
     "metadata": {},
     "output_type": "execute_result"
    }
   ],
   "source": [
    "# To be implemented\n",
    "from sklearn.cluster import KMeans\n",
    "kmeans_pos2 = KMeans(n_clusters=8,random_state=42)\n",
    "kmeans_pos2.fit(X_pos_train)"
   ]
  },
  {
   "cell_type": "code",
   "execution_count": 40,
   "metadata": {},
   "outputs": [],
   "source": [
    "assigned_cluster_all_pos2 = kmeans_pos2.predict(X_pos_all)"
   ]
  },
  {
   "cell_type": "code",
   "execution_count": 41,
   "metadata": {},
   "outputs": [
    {
     "name": "stdout",
     "output_type": "stream",
     "text": [
      "cluster centers:\n",
      "[[0.00133112 0.00705644 0.00112206 ... 0.00078635 0.00347322 0.00892395]\n",
      " [0.00065473 0.00460263 0.00130378 ... 0.00085926 0.0038552  0.00955339]\n",
      " [0.00081926 0.00626467 0.00262472 ... 0.00076167 0.00275436 0.0040928 ]\n",
      " ...\n",
      " [0.00140347 0.00829766 0.00170679 ... 0.00133009 0.00697045 0.01048099]\n",
      " [0.00135864 0.00656347 0.00147546 ... 0.00115138 0.00327202 0.00763664]\n",
      " [0.00167766 0.00832237 0.00244365 ... 0.00179992 0.00473582 0.00848677]]\n"
     ]
    }
   ],
   "source": [
    "# To be implemented\n",
    "print(\"cluster centers:\")\n",
    "print(kmeans_pos2.cluster_centers_)"
   ]
  },
  {
   "cell_type": "code",
   "execution_count": 42,
   "metadata": {},
   "outputs": [
    {
     "name": "stdout",
     "output_type": "stream",
     "text": [
      "top features for each cluster:\n",
      "0: breakfast, great, place, food, good, eggs, service, vegas, coffee, delicious\n",
      "1: love, place, food, great, good, service, amazing, friendly, staff, time\n",
      "2: best, vegas, food, las, ve, place, service, amazing, restaurant, time\n",
      "3: great, food, service, place, amazing, good, awesome, friendly, definitely, excellent\n",
      "4: sushi, place, great, roll, rolls, fresh, ayce, service, good, eat\n",
      "5: chicken, fried, good, food, rice, place, great, delicious, ordered, amazing\n",
      "6: pizza, great, crust, place, good, best, delicious, service, cheese, amazing\n",
      "7: good, food, place, delicious, amazing, time, like, just, really, service\n"
     ]
    }
   ],
   "source": [
    "# To be implemented\n",
    "top_centroids = kmeans_pos2.cluster_centers_.argsort()[:,-1:-11:-1]\n",
    "print(\"top features for each cluster:\")\n",
    "for num, centroid in enumerate(top_centroids):\n",
    "    print(\"%d: %s\" % (num, \", \".join(features_name[i] for i in centroid)))"
   ]
  },
  {
   "cell_type": "code",
   "execution_count": 43,
   "metadata": {},
   "outputs": [
    {
     "name": "stdout",
     "output_type": "stream",
     "text": [
      "cluster 0:\n",
      "rating: 5.000000\n",
      "category: Food, Fruits & Veggies, Restaurants, Specialty Food, Vegan, Gluten-Free, Juice Bars & Smoothies, Comfort Food, Organic Stores\n",
      "       Visiting Vegas for the pool party scene and needed fuel after a long day in the sun.  Found Go Vegan Cafe online and so stoked we did.  Everything on the menu is plant based, if you're not a vegan or vegetarian don't be turned off by that fact.  I guarantee regardless of your diet you'll find something great to eat.\n",
      "\n",
      "John was our server and he was very courteous and chill.  I had the breakfast burrito and it was amazing.  Fresh veggies, tasty sausage and fresh guac.  Awesome!\n",
      "\n",
      "Check this place out. Reasonably priced and tons of options.\n",
      "rating: 5.000000\n",
      "category: Steakhouses, Breakfast & Brunch, Restaurants, French\n",
      "       I always enjoy breakfast under the Eiffel Tower when I visit Las Vegas!  The food and service is always fantastic and you can't beat the location at Paris across from the Bellagio!  I highly recommend the Eggs Benedict and ordering a warm baguette to start. The butter and jam are wonderful.  I have wanted to order other items but can't resist the Eggs Benedict.  It is fun to sit outside on the patio to people-watch.  You can even have a BOWL of coffee!\n",
      "rating: 5.000000\n",
      "category: Cafes, Hostels, Brasseries, Hotels & Travel, Restaurants, French, Steakhouses\n",
      "       Truly delicious breakfast. Great service. Any place that gives you sliced bread and a jar of Foie Gras and calls it breakfast is tops on my list.\n",
      "cluster 1:\n",
      "rating: 5.000000\n",
      "category: Restaurants, Vegetarian, Thai, Noodles\n",
      "       Very cheap Thai food\n",
      "But worth and good food\n",
      "I am always order delivery to my hotel cosmopolitan and they came quick with no fee charge.   Love\n",
      "rating: 5.000000\n",
      "category: Restaurants, Fast Food, Vegetarian, Indian\n",
      "       I cannot thank this place enough for saving my 3 O'clock cravings...had been here in pajamas to get my food....i love love love the tandoori chicken, daal makhani and the cute little naan...has always eaten here like a monster...the food is really yummy..you get rice along with a side of lemons and onions...nothing can go wrong in here..even the people in front are really good...\n",
      "rating: 5.000000\n",
      "category: American (New), Gastropubs, Bars, Restaurants, Nightlife\n",
      "       I absolutely love this bar! The food is always delicious- eat in or to-go. The bartenders are awesome! Kele, Brett, Rob, Shaun, Kate & Jess. I couldn't ask for a better neighborhood bar close to my house!!! Love it! Thanks guys for always being awesome. Plus they have a great selection of craft beers...\n",
      "cluster 2:\n",
      "rating: 5.000000\n",
      "category: American (New), Tapas/Small Plates, Nightlife, Music Venues, Arts & Entertainment, Breakfast & Brunch, Lounges, American (Traditional), Cocktail Bars, Restaurants, Bars, Tapas Bars\n",
      "       Amazing. Amazing. Best appetizer choices anywhere. Pricing is ridiculous. Andvits in Summerlin. First time for dinner. A must do on your list. \n",
      "Happy Hour will be my next stop for sure.\n",
      "rating: 5.000000\n",
      "category: Japanese, Asian Fusion, Fast Food, Restaurants\n",
      "       Best priced teriyaki bowl special I've seen in Vegas. Fast. Fresh. Healthy. It's in my neighborhood. Will keep coming back. Keep up the good work.\n",
      "rating: 5.000000\n",
      "category: Chinese, Szechuan, Noodles, Restaurants\n",
      "       Hands down the best beef noodle soup I've ever had.  That said, the pork dumplings were even better.  I know this place only just opened in Vegas but they need to open up one in Dallas too since we will be leaving soon!\n",
      "cluster 3:\n",
      "rating: 5.000000\n",
      "category: Desserts, Food, Restaurants, Ice Cream & Frozen Yogurt, Fast Food\n",
      "       I came in at 6pm on 5/23 and was helped by the nicest person at the register. She had great customer service and was deliberate in making sure the order was correct. I will definitely keep coming here.\n",
      "rating: 5.000000\n",
      "category: Steakhouses, Restaurants, Seafood, Buffets\n",
      "       I went here earlier tonight and had a really nice experience. Great atmosphere, very attentive service, awesome salad bar and soups included with entre. The manager Kenneth made us feel very welcomed by checking on us multiple times along with our great waiter. Thanks a lot guys! And OMG the food was AMAZING!!! We order bacon wrapped shrimp with filet mignon which were so tasty. They put out quality food here. Best filet mignon I have ever had. Melted in my mouth like butter. They use their homemade marinade. I highly suggest this resturant at the Boulder station. Enjoy!\n",
      "rating: 5.000000\n",
      "category: Breakfast & Brunch, Restaurants, Mexican, American (New), Tex-Mex\n",
      "       Second time here and doesn't disappoint. Friendly staff great food. Fresh chips and salsa\n",
      ")\n",
      "cluster 4:\n",
      "rating: 5.000000\n",
      "category: Restaurants, Seafood, Sushi Bars, Japanese\n",
      "       This place has become my spot for sushi. A local or visiting, a must. I can go as far to say it may be better than some omasake places . Love the sushi chefs - always recommends the best. If it's good, they'll tell you. If not, they'll give you an alternative choice.\n",
      "rating: 5.000000\n",
      "category: Restaurants, Sushi Bars, Japanese\n",
      "       This was stumbled upon accident and what a great surprise. This small yet lively restaurant not only serves top quality sushi, but the whole staff was absolutely wonderful. Right when we sat down, the servers immediately got out orders and food was served within 10 minutes. We tasted a variety of appetizers such as tune carpaccio, seaweed salad, tostada, and miso soup - all the portions were great and delicious. The sushi however took the prize (as it should right?). The chef even gave us complementary fresh clams to start. You can tell all the ingredient were super fresh and made to order. I really appreciated the fact that things were not stuffed with rice.\n",
      "\n",
      "Our favorite rolls were: Mountain and PB!!\n",
      "rating: 5.000000\n",
      "category: Izakaya, Sushi Bars, Japanese, Food, Ethnic Food, Restaurants, Japanese Curry, Fast Food, Noodles, Specialty Food, Ramen\n",
      "       Great sushi for a reasonable price! We ordered a Lunch special (California roll + 4 pieces of sushi), spicy tuna roll and a salmon avocado roll- spicy tuna has a nice kick to it and the sushi was fresh! Also got a spicy chicken teriyaki and the okame udon(which was my favorite- the broth is on point!). \n",
      "\n",
      "Totally recommend and will be back soon!\n",
      "cluster 5:\n",
      "rating: 5.000000\n",
      "category: Tea Rooms, Taiwanese, Bubble Tea, American (Traditional), Coffee & Tea, Food, Restaurants, Juice Bars & Smoothies\n",
      "       This place has some of the best tea combinations I've tried. The food is crazy good. My addiction is definitely the popcorn chicken. The flavor just pops. Customer service is on point. They always go the extra mile for the patrons. Definitely a must try, careful it's addicting.\n",
      "rating: 5.000000\n",
      "category: Breakfast & Brunch, American (New), Restaurants\n",
      "       I am so happy that we decided to get food here! Seriously everything I tried was so pretty and delicious. \n",
      "We got the chicken and waffles, chorizo harsh, and watermelon kiwi lemonade. \n",
      "The chicken and waffle was huge and it was very good! The chicken was crispy and moist. There was four pieces of waffles stacked on the bottom. The waffles were cooked perfection. Not to mention, it had strips of bacon cooked into it.\n",
      "The chorizo hash was so good and was perfect after a week of drinking. The hash came with a large tortilla, fruits, and two eggs. \n",
      "You have to try their watermelon kiwi lemonade. It was so pretty. It had three layers of color and a slice of watermelon as garnish. \n",
      "The service was great and it's open 24 hours! I wish we found this place earlier because I would have gone here every night after drinking.\n",
      "rating: 5.000000\n",
      "category: Barbeque, Asian Fusion, Korean, Restaurants\n",
      "       Ate here last night. Great quality beef, pork and chicken. While our cook was cooking and preparing our meal, she explained what everything was. Awesome atmosphere. We had theMoo Woo combo, all 6 of us were stuffed. I would highly recommend this place to anyone. Why waist your time going to China Town, when you can come here.You won't be disappointed.\n",
      "cluster 6:\n",
      "rating: 5.000000\n",
      "category: Pizza, Restaurants\n",
      "       Great spot.  The hostess was friendly and service was great.  We ordered a Caesar salad.  It was fresh, crisp and delicious.  We ordered 2 pizzas.  Both were delicious.  Crust was crispy, nice sauce and lots of toppings.  My kids were given pizza dough to play with and loved it.\n",
      "rating: 5.000000\n",
      "category: Restaurants, Pizza\n",
      "       Fantastic!  From the Bruschetta, to the Pizza to the wonderful wait staff, Grimaldi's was fantastic. Oh, and I must not forget the made on site Cheesecake.  \n",
      "\n",
      "We wanted Pizza and love thin crust brick oven pizza.  Grimaldi's had great reviews so we decided to give it a try. The Bruschetta is three pieces, all split in two, with a variety of styles. The pizza is mostly create your own but they do have a few traditional favorites if you choose that route. The wait staff was energetic and fantastic. \n",
      "\n",
      "We finished with some cheesecake that the wife and I fought over the last bite. \n",
      "\n",
      "Highly recommended.\n",
      "rating: 5.000000\n",
      "category: Pizza, Restaurants, Chicken Wings\n",
      "       Everything was great (: and got my pizza hot !!! Every nice eat in too. They have a tv see your name\n",
      "cluster 7:\n",
      "rating: 5.000000\n",
      "category: Restaurants, Steakhouses, Italian\n",
      "       I like everything about this place. Food, decor, people. It was a very nice experience.\n",
      "rating: 5.000000\n",
      "category: Japanese, Sushi Bars, Restaurants\n",
      "       Krazy hand roll I love! There isn't anything here that I don't like.  The menu now has pictures and has helped me want to order new things I never tried before.  Always get my money's worth here and never a wait line but a little far drive for me but totally worth it.  I have probably been here at least 50 times and I am addicted to this place!!!\n",
      "rating: 5.000000\n",
      "category: Japanese, Restaurants, Sushi Bars\n",
      "       My husband and I frequent here. It's our lunch date spot. Get the jackpot. You won't be sorry. The names of the rolls are ridiculous. But their specialty rolls are huge. You'll need to unlock your jaw sometimes to get it in one bite. Service is great and quick. We prefer to sit in a booth but at the bar they chefs are friendly. They play edm. Bento boxes are good. Tempura comes out hot. This is not ayce! But it's quality\n"
     ]
    }
   ],
   "source": [
    "# To be implemented\n",
    "for i in range(kmeans_pos2.n_clusters):\n",
    "    cluster = ind_pos[assigned_cluster_all_pos2==i]\n",
    "    sample_reviews = np.random.choice(cluster, 3, replace=False)\n",
    "    print(\"cluster %d:\" % i)\n",
    "    for review in sample_reviews:\n",
    "        print(\"rating: %f\" % df_pos_reviews.loc[review]['stars'])\n",
    "        print(\"category: %s\" % df_pos_reviews.loc[review]['categories'])\n",
    "        print(\"       %s\" % df_pos_reviews.loc[review]['text'])"
   ]
  },
  {
   "cell_type": "markdown",
   "metadata": {},
   "source": [
    "## 3. Cluster all the reviews of the most reviewed restaurant\n",
    "Let's find the most reviewed restaurant and analyze its reviews"
   ]
  },
  {
   "cell_type": "code",
   "execution_count": 44,
   "metadata": {},
   "outputs": [
    {
     "data": {
      "text/plain": [
       "0.50     292.0\n",
       "0.75     609.0\n",
       "0.90    1289.0\n",
       "Name: review_cnt, dtype: float64"
      ]
     },
     "execution_count": 44,
     "metadata": {},
     "output_type": "execute_result"
    }
   ],
   "source": [
    "df['review_cnt'] = df.groupby(['business_id'])['review_id'].transform('count')\n",
    "df['review_cnt'].quantile(q=[0.5,0.75,0.90])"
   ]
  },
  {
   "cell_type": "code",
   "execution_count": 45,
   "metadata": {},
   "outputs": [],
   "source": [
    "# Find the business who got most reviews, get your filtered df, name it df_top_restaurant\n",
    "df_top_restaurant = df[df['review_cnt']== df['review_cnt'].max()].copy()"
   ]
  },
  {
   "cell_type": "code",
   "execution_count": 46,
   "metadata": {},
   "outputs": [
    {
     "data": {
      "text/plain": [
       "RESDUcs7fIiihp38-d6_6g    4227\n",
       "Name: business_id, dtype: int64"
      ]
     },
     "execution_count": 46,
     "metadata": {},
     "output_type": "execute_result"
    }
   ],
   "source": [
    "df_top_restaurant['business_id'].value_counts()"
   ]
  },
  {
   "cell_type": "code",
   "execution_count": 47,
   "metadata": {},
   "outputs": [
    {
     "data": {
      "text/plain": [
       "(4227, 15)"
      ]
     },
     "execution_count": 47,
     "metadata": {},
     "output_type": "execute_result"
    }
   ],
   "source": [
    "df_top_restaurant.shape"
   ]
  },
  {
   "cell_type": "markdown",
   "metadata": {},
   "source": [
    "### Vectorize the text feature"
   ]
  },
  {
   "cell_type": "code",
   "execution_count": 48,
   "metadata": {},
   "outputs": [],
   "source": [
    "# Take the values of the column that contains review text data, save to a variable named \"documents_top_restaurant\"\n",
    "documents_top_restaurant = df_top_restaurant['text'].values"
   ]
  },
  {
   "cell_type": "markdown",
   "metadata": {},
   "source": [
    "### Define target variable (for later classification use)"
   ]
  },
  {
   "cell_type": "markdown",
   "metadata": {},
   "source": [
    "#### Again, we look at perfect (5 stars) and imperfect (1-4 stars) rating"
   ]
  },
  {
   "cell_type": "code",
   "execution_count": 49,
   "metadata": {},
   "outputs": [],
   "source": [
    "# To be implemented\n",
    "df_top_restaurant['is_pos_review'] = (df_top_restaurant['stars']>4)\n",
    "df_top_restaurant['is_pos_review'].value_counts(normalize=True)\n",
    "target_top_restaurant = df_top_restaurant['is_pos_review'].values"
   ]
  },
  {
   "cell_type": "markdown",
   "metadata": {},
   "source": [
    "#### Check the statistic of the target variable"
   ]
  },
  {
   "cell_type": "code",
   "execution_count": 50,
   "metadata": {},
   "outputs": [
    {
     "data": {
      "text/plain": [
       "((4227,), (4227,))"
      ]
     },
     "execution_count": 50,
     "metadata": {},
     "output_type": "execute_result"
    }
   ],
   "source": [
    "# To be implemented\n",
    "target_top_restaurant.shape,documents_top_restaurant.shape"
   ]
  },
  {
   "cell_type": "code",
   "execution_count": 51,
   "metadata": {},
   "outputs": [],
   "source": [
    "indices_top_restaurant = df_top_restaurant.index"
   ]
  },
  {
   "cell_type": "markdown",
   "metadata": {},
   "source": [
    "### Create training dataset and test dataset"
   ]
  },
  {
   "cell_type": "code",
   "execution_count": 52,
   "metadata": {},
   "outputs": [],
   "source": [
    "from sklearn.cross_validation import train_test_split"
   ]
  },
  {
   "cell_type": "code",
   "execution_count": 53,
   "metadata": {},
   "outputs": [],
   "source": [
    "# documents_top_restaurant is your X, target_top_restaurant is your y\n",
    "# Now split the data to training set and test set\n",
    "# Now your data is smaller, you can use a typical \"test_size\", e.g. 0.3-0.7\n",
    "doc_top_train,doc_top_test,tar_top_train,tar_top_test,ind_top_train,ind_top_test = train_test_split(documents_top_restaurant,target_top_restaurant,indices_top_restaurant,test_size=0.3,random_state=0)"
   ]
  },
  {
   "cell_type": "markdown",
   "metadata": {},
   "source": [
    "### Get NLP representation of the documents"
   ]
  },
  {
   "cell_type": "code",
   "execution_count": 54,
   "metadata": {},
   "outputs": [],
   "source": [
    "from sklearn.feature_extraction.text import TfidfVectorizer"
   ]
  },
  {
   "cell_type": "code",
   "execution_count": 55,
   "metadata": {},
   "outputs": [],
   "source": [
    "# Create TfidfVectorizer, and name it vectorizer\n",
    "top_vectorizer = TfidfVectorizer(stop_words='english',max_features=1000,min_df=1)"
   ]
  },
  {
   "cell_type": "code",
   "execution_count": 56,
   "metadata": {},
   "outputs": [],
   "source": [
    "# Train the model with your training data\n",
    "X_train_top=top_vectorizer.fit_transform(doc_top_train).toarray()"
   ]
  },
  {
   "cell_type": "code",
   "execution_count": 57,
   "metadata": {},
   "outputs": [],
   "source": [
    "# Get the vocab of your tfidf\n",
    "top_features_name = top_vectorizer.get_feature_names()"
   ]
  },
  {
   "cell_type": "code",
   "execution_count": 58,
   "metadata": {},
   "outputs": [],
   "source": [
    "# Use the trained model to transform the test data\n",
    "X_test_top=top_vectorizer.transform(doc_top_test).toarray()"
   ]
  },
  {
   "cell_type": "code",
   "execution_count": 59,
   "metadata": {},
   "outputs": [],
   "source": [
    "# Use the trained model to transform all the data\n",
    "X_all_top=top_vectorizer.transform(documents_top_restaurant).toarray()"
   ]
  },
  {
   "cell_type": "markdown",
   "metadata": {},
   "source": [
    "### Cluster reviews with KMeans"
   ]
  },
  {
   "cell_type": "markdown",
   "metadata": {},
   "source": [
    "#### Fit k-means clustering on the training vectors and make predictions on all data"
   ]
  },
  {
   "cell_type": "code",
   "execution_count": 60,
   "metadata": {},
   "outputs": [
    {
     "data": {
      "text/plain": [
       "KMeans(algorithm='auto', copy_x=True, init='k-means++', max_iter=300,\n",
       "    n_clusters=2, n_init=10, n_jobs=1, precompute_distances='auto',\n",
       "    random_state=42, tol=0.0001, verbose=0)"
      ]
     },
     "execution_count": 60,
     "metadata": {},
     "output_type": "execute_result"
    }
   ],
   "source": [
    "# To be implemented\n",
    "from sklearn.cluster import KMeans\n",
    "kmeans_top = KMeans(n_clusters=2,random_state=42)\n",
    "kmeans_top.fit(X_train_top)"
   ]
  },
  {
   "cell_type": "markdown",
   "metadata": {},
   "source": [
    "#### Make predictions on all your data"
   ]
  },
  {
   "cell_type": "code",
   "execution_count": 61,
   "metadata": {},
   "outputs": [],
   "source": [
    "# To be implemented\n",
    "assigned_cluster_all_top = kmeans_top.predict(X_all_top)"
   ]
  },
  {
   "cell_type": "markdown",
   "metadata": {},
   "source": [
    "#### Inspect the centroids"
   ]
  },
  {
   "cell_type": "code",
   "execution_count": 62,
   "metadata": {},
   "outputs": [
    {
     "name": "stdout",
     "output_type": "stream",
     "text": [
      "cluster centers:\n",
      "[[0.00412316 0.00798633 0.00248271 ... 0.00946455 0.00261443 0.00531457]\n",
      " [0.00368822 0.01001068 0.00309549 ... 0.00552936 0.0018602  0.00306911]]\n"
     ]
    }
   ],
   "source": [
    "# To be implemented\n",
    "print(\"cluster centers:\")\n",
    "print(kmeans_top.cluster_centers_)"
   ]
  },
  {
   "cell_type": "markdown",
   "metadata": {},
   "source": [
    "#### Find the top 10 features for each cluster."
   ]
  },
  {
   "cell_type": "code",
   "execution_count": 63,
   "metadata": {},
   "outputs": [
    {
     "name": "stdout",
     "output_type": "stream",
     "text": [
      "top features for each cluster:\n",
      "0: crab, buffet, good, legs, food, seafood, dessert, section, really, like\n",
      "1: food, buffet, vegas, best, wait, great, line, time, place, worth\n"
     ]
    }
   ],
   "source": [
    "# To be implemented\n",
    "top_centroids = kmeans_top.cluster_centers_.argsort()[:,-1:-11:-1]\n",
    "print(\"top features for each cluster:\")\n",
    "for num, centroid in enumerate(top_centroids):\n",
    "    print(\"%d: %s\" % (num, \", \".join(top_features_name[i] for i in centroid)))"
   ]
  },
  {
   "cell_type": "markdown",
   "metadata": {},
   "source": [
    "#### Print out the rating and review of a random sample of the reviews assigned to each cluster to get a sense of the cluster."
   ]
  },
  {
   "cell_type": "code",
   "execution_count": 64,
   "metadata": {},
   "outputs": [
    {
     "name": "stdout",
     "output_type": "stream",
     "text": [
      "cluster 0:\n",
      "rating: 3.000000\n",
      "       Food was decent and I only thought the seafood station was remarkable. Honestly, I spent most of my time thinking about how I had to eat $63 worth of food to break-even on the cost. \n",
      "\n",
      "The oysters and snow crab/king crab legs were gigantic and tasted very fresh. The desserts were pretty good too, I loved the key lime tart and Thai tea boba float. Also, my friends surprised me with their birthday platter! It was a cute plate of desserts, mostly chocolate-based.\n",
      "rating: 4.000000\n",
      "       Came here for the dinner buffet. Make sure to come in early, you can also check in at the kiosk, it will print out what time you can come back and they will text you too if your group is ready to be seated. They have a good selection of food. My favorite part of the buffet is the boiled crab legs and the dessert station.\n",
      "rating: 3.000000\n",
      "       I have to give this one a 3, just because I didn't feel the price was worth the buffet and line waiting experience (unless you're going for platters of oysters, crab legs and prime ribs then yea you'll break even quickly).   The oysters were also not the freshest but I reckon that's kind of expected with buffet bars.  However, they do have a wide selection of buffet items so there's probably something for everyone!  I might recommend trying the buffet around town (not in hotels) which are often less expensive and just as good :)\n",
      "cluster 1:\n",
      "rating: 1.000000\n",
      "       Horrible management! my friend and I were there for New Year, we took a number and after 20 mins received a text message telling us its the time. But when we returned we figured out its not ready for us, the line is ready for us to be waiting in. So literary you have to take a number and wait to be arranged into the line! How insane this is? Cannot you simply ask the customer to be there when they can enter and dine? wasting hundreds of people's time everyday! Donot go to such an arrogant resturant\n",
      "rating: 4.000000\n",
      "       I loved it! It was the best buffet I have ever eaten at! However... I was disappointed in the desserts.  They were just blah to me. Not worth it for the price I paid.  I am a dessert lover and if this place fell short anywhere, it would be in the dessert department.\n",
      "rating: 1.000000\n",
      "       Too expensive, $60 plus tax. Over rated, ignore all those good 4 star reviews. People are paid to write those good reviews. I waited more than 3 hours in line before I made it in the restaurant. When we got inside, the restaurant was half empty, lots of tables and chairs were available. This is what happened, the restaurant have a fast lane for an extra $15, you'll be seated in less than 10 minutes. If you can eat $75 (plus tax) of food, go ahead and knock yourself out. If you are in the slow line, you are held back until 1.5 hrs before they close. at this point, they let everyone in for the left overs. Don't waste your time and money.\n"
     ]
    }
   ],
   "source": [
    "# To be implemented\n",
    "for i in range(kmeans_top.n_clusters):\n",
    "    cluster = indices_top_restaurant[assigned_cluster_all_top==i]\n",
    "    sample_reviews = np.random.choice(cluster, 3, replace=False)\n",
    "    print(\"cluster %d:\" % i)\n",
    "    for review in sample_reviews:\n",
    "        print(\"rating: %f\" % df_top_restaurant.loc[review]['stars'])\n",
    "        print(\"       %s\" % df_top_restaurant.loc[review]['text'])"
   ]
  },
  {
   "cell_type": "markdown",
   "metadata": {},
   "source": [
    "## 4. Use PCA to reduce dimensionality"
   ]
  },
  {
   "cell_type": "markdown",
   "metadata": {},
   "source": [
    "### Stardardize features\n",
    "Our X_train and X_test"
   ]
  },
  {
   "cell_type": "code",
   "execution_count": 65,
   "metadata": {},
   "outputs": [],
   "source": [
    "from sklearn.preprocessing import StandardScaler\n",
    "\n",
    "# To be implemented\n",
    "scaler = StandardScaler()\n",
    "\n",
    "X_scaled_train = scaler.fit_transform(X_train)\n",
    "X_scaled_test = scaler.fit_transform(X_test)"
   ]
  },
  {
   "cell_type": "markdown",
   "metadata": {},
   "source": [
    "### Use PCA to transform data (train and test) and get princial components"
   ]
  },
  {
   "cell_type": "code",
   "execution_count": 66,
   "metadata": {},
   "outputs": [],
   "source": [
    "from sklearn.decomposition import PCA\n",
    "\n",
    "# Let's pick a n_components\n",
    "n_col = 50\n",
    "\n",
    "# To be implemented\n",
    "pca = PCA(n_components = n_col)\n",
    "\n",
    "# fit: get V, lambda; transform: X_train*V\n",
    "train_components = pca.fit_transform(X_scaled_train)\n",
    "test_components = pca.transform(X_scaled_test)"
   ]
  },
  {
   "cell_type": "code",
   "execution_count": 67,
   "metadata": {},
   "outputs": [
    {
     "name": "stdout",
     "output_type": "stream",
     "text": [
      "(447109, 50)\n",
      "(111778, 50)\n"
     ]
    }
   ],
   "source": [
    "print(train_components.shape)\n",
    "print(test_components.shape)"
   ]
  },
  {
   "cell_type": "code",
   "execution_count": 68,
   "metadata": {},
   "outputs": [
    {
     "name": "stdout",
     "output_type": "stream",
     "text": [
      "(50, 1000)\n"
     ]
    }
   ],
   "source": [
    "print(pca.components_.shape)"
   ]
  },
  {
   "cell_type": "markdown",
   "metadata": {},
   "source": [
    "### See how much (and how much percentage of) variance the principal components explain"
   ]
  },
  {
   "cell_type": "code",
   "execution_count": 69,
   "metadata": {},
   "outputs": [
    {
     "name": "stdout",
     "output_type": "stream",
     "text": [
      "(50,)\n",
      "[5.44949445 4.36027039 3.28665345 2.86362831 2.70597152 2.66258404\n",
      " 2.5177551  2.42454681 2.30137099 2.27095639 2.24358496 2.12966933\n",
      " 2.1104271  2.03455141 1.98356495 1.97834234 1.92760285 1.89002463\n",
      " 1.84993463 1.8352179  1.81860312 1.76591115 1.75806013 1.72667453\n",
      " 1.67206902 1.66246485 1.633791   1.61551523 1.60819987 1.58350221\n",
      " 1.57349661 1.55516431 1.53674984 1.52485303 1.50045593 1.48888973\n",
      " 1.47380701 1.47054541 1.45627478 1.44051785 1.43189716 1.42477495\n",
      " 1.40541932 1.39211349 1.3859738  1.35819722 1.34491786 1.3296711\n",
      " 1.32195803 1.29750056]\n"
     ]
    }
   ],
   "source": [
    "# To be implemented\n",
    "print(pca.explained_variance_.shape)\n",
    "print(pca.explained_variance_)"
   ]
  },
  {
   "cell_type": "code",
   "execution_count": 70,
   "metadata": {},
   "outputs": [
    {
     "name": "stdout",
     "output_type": "stream",
     "text": [
      "(50,)\n",
      "[0.00544948 0.00436026 0.00328665 0.00286362 0.00270597 0.00266258\n",
      " 0.00251775 0.00242454 0.00230137 0.00227095 0.00224358 0.00212966\n",
      " 0.00211042 0.00203455 0.00198356 0.00197834 0.0019276  0.00189002\n",
      " 0.00184993 0.00183521 0.0018186  0.00176591 0.00175806 0.00172667\n",
      " 0.00167207 0.00166246 0.00163379 0.00161551 0.0016082  0.0015835\n",
      " 0.00157349 0.00155516 0.00153675 0.00152485 0.00150045 0.00148889\n",
      " 0.0014738  0.00147054 0.00145627 0.00144051 0.00143189 0.00142477\n",
      " 0.00140542 0.00139211 0.00138597 0.00135819 0.00134491 0.00132967\n",
      " 0.00132196 0.0012975 ]\n"
     ]
    }
   ],
   "source": [
    "# To be implemented\n",
    "print(pca.explained_variance_ratio_.shape)\n",
    "print(pca.explained_variance_ratio_)"
   ]
  },
  {
   "cell_type": "markdown",
   "metadata": {},
   "source": [
    "### Viz: plot proportion of variance explained with top principal components\n",
    "\n",
    "For clear display, you may start with plotting <=20 principal components"
   ]
  },
  {
   "cell_type": "code",
   "execution_count": 71,
   "metadata": {},
   "outputs": [],
   "source": [
    "# To be implemented\n",
    "import matplotlib.pyplot as plt\n",
    "%matplotlib inline\n",
    "plt.style.use(\"ggplot\")"
   ]
  },
  {
   "cell_type": "code",
   "execution_count": 72,
   "metadata": {},
   "outputs": [
    {
     "data": {
      "text/plain": [
       "Text(0,0.5,u'Variance Explained')"
      ]
     },
     "execution_count": 72,
     "metadata": {},
     "output_type": "execute_result"
    },
    {
     "data": {
      "image/png": "[encoded data removed]",
      "text/plain": [
       "<matplotlib.figure.Figure at 0x116a61310>"
      ]
     },
     "metadata": {},
     "output_type": "display_data"
    }
   ],
   "source": [
    "# To be implemented\n",
    "pca_range = np.arange(20) + 1\n",
    "explained_var_top20 = pca.explained_variance_[:20]\n",
    "\n",
    "pca_names = ['PCA_%s' % i for i in pca_range]\n",
    "\n",
    "plt.bar(pca_range, explained_var_top20, align='center')\n",
    "\n",
    "xticks = plt.xticks(pca_range, pca_names, rotation=90)\n",
    "\n",
    "plt.ylabel('Variance Explained')"
   ]
  },
  {
   "cell_type": "code",
   "execution_count": 73,
   "metadata": {},
   "outputs": [
    {
     "data": {
      "text/plain": [
       "Text(0,0.5,u'Proportion of Variance Explained')"
      ]
     },
     "execution_count": 73,
     "metadata": {},
     "output_type": "execute_result"
    },
    {
     "data": {
      "image/png": "[encoded data removed]",
      "text/plain": [
       "<matplotlib.figure.Figure at 0x116b34390>"
      ]
     },
     "metadata": {},
     "output_type": "display_data"
    }
   ],
   "source": [
    "# To be implemented\n",
    "pca_range = np.arange(20) + 1\n",
    "explained_var_top20 = pca.explained_variance_ratio_[:20]\n",
    "\n",
    "pca_names = ['PCA_%s' % i for i in pca_range]\n",
    "\n",
    "plt.bar(pca_range, explained_var_top20, align='center')\n",
    "\n",
    "xticks = plt.xticks(pca_range, pca_names, rotation=90)\n",
    "\n",
    "plt.ylabel('Proportion of Variance Explained')"
   ]
  },
  {
   "cell_type": "markdown",
   "metadata": {},
   "source": [
    "## Classifying positive/negative review with PCA preprocessing"
   ]
  },
  {
   "cell_type": "markdown",
   "metadata": {},
   "source": [
    "### Helper Function"
   ]
  },
  {
   "cell_type": "code",
   "execution_count": 74,
   "metadata": {},
   "outputs": [],
   "source": [
    "from sklearn.metrics import precision_score,accuracy_score,recall_score,f1_score,roc_auc_score"
   ]
  },
  {
   "cell_type": "code",
   "execution_count": 75,
   "metadata": {},
   "outputs": [],
   "source": [
    "def get_performance_metrics(y_train, y_train_pred, y_test, y_test_pred, threshold=0.5):\n",
    "    metric_names = ['AUC','Accuracy','Precision','Recall','f1-score']\n",
    "    metric_values_train = [roc_auc_score(y_train, y_train_pred),\n",
    "                    accuracy_score(y_train, y_train_pred>threshold),\n",
    "                    precision_score(y_train, y_train_pred>threshold),\n",
    "                    recall_score(y_train, y_train_pred>threshold),\n",
    "                    f1_score(y_train, y_train_pred>threshold)\n",
    "                   ]\n",
    "    metric_values_test = [roc_auc_score(y_test, y_test_pred),\n",
    "                    accuracy_score(y_test, y_test_pred>threshold),\n",
    "                    precision_score(y_test, y_test_pred>threshold),\n",
    "                    recall_score(y_test, y_test_pred>threshold),\n",
    "                    f1_score(y_test, y_test_pred>threshold)\n",
    "                   ]\n",
    "    all_metrics = pd.DataFrame({'metrics':metric_names,\n",
    "                                'train':metric_values_train,\n",
    "                                'test':metric_values_test},columns=['metrics','train','test']).set_index('metrics')\n",
    "    print(all_metrics)"
   ]
  },
  {
   "cell_type": "code",
   "execution_count": 76,
   "metadata": {},
   "outputs": [],
   "source": [
    "#helper function to plot roc curve\n",
    "%matplotlib inline\n",
    "import matplotlib.pyplot as plt\n",
    "from sklearn.metrics import roc_curve, auc\n",
    "\n",
    "def plot_roc_curve(y_train, y_train_pred, y_test, y_test_pred):\n",
    "    roc_auc_train = roc_auc_score(y_train, y_train_pred)\n",
    "    fpr_train, tpr_train, _ = roc_curve(y_train, y_train_pred)\n",
    "\n",
    "    roc_auc_test = roc_auc_score(y_test, y_test_pred)\n",
    "    fpr_test, tpr_test, _ = roc_curve(y_test, y_test_pred)\n",
    "    plt.figure()\n",
    "    lw = 2\n",
    "    plt.plot(fpr_train, tpr_train, color='green',\n",
    "             lw=lw, label='ROC Train (AUC = %0.4f)' % roc_auc_train)\n",
    "    plt.plot(fpr_test, tpr_test, color='darkorange',\n",
    "             lw=lw, label='ROC Test (AUC = %0.4f)' % roc_auc_test)\n",
    "    plt.plot([0, 1], [0, 1], color='navy', lw=lw, linestyle='--')\n",
    "    plt.xlim([0.0, 1.0])\n",
    "    plt.ylim([0.0, 1.05])\n",
    "    plt.xlabel('False Positive Rate')\n",
    "    plt.ylabel('True Positive Rate')\n",
    "    plt.title('Receiver operating characteristic example')\n",
    "    plt.legend(loc=\"lower right\")\n",
    "    plt.show()"
   ]
  },
  {
   "cell_type": "code",
   "execution_count": 77,
   "metadata": {},
   "outputs": [],
   "source": [
    "# helper function to train models\n",
    "# define function to perform train, test, and get model performance\n",
    "def train_test_model(clf, X_train, y_train, X_test, y_test):\n",
    "    # Fit a model by providing X and y from training set\n",
    "    clf.fit(X_train, y_train)\n",
    "\n",
    "    # Make prediction on the training data\n",
    "    y_train_pred = clf.predict(X_train)\n",
    "    p_train_pred = clf.predict_proba(X_train)[:,1]\n",
    "\n",
    "    # Make predictions on test data\n",
    "    y_test_pred = clf.predict(X_test)\n",
    "    p_test_pred = clf.predict_proba(X_test)[:,1]\n",
    "\n",
    "    # print model results\n",
    "    get_performance_metrics(y_train, p_train_pred, y_test, p_test_pred)\n",
    "    plot_roc_curve(y_train, p_train_pred, y_test, p_test_pred)"
   ]
  },
  {
   "cell_type": "markdown",
   "metadata": {},
   "source": [
    "### Logistic Regression Classifier\n",
    "#### Use standardized tf-idf vectors as features"
   ]
  },
  {
   "cell_type": "code",
   "execution_count": 78,
   "metadata": {},
   "outputs": [
    {
     "data": {
      "text/plain": [
       "LogisticRegression(C=1.0, class_weight=None, dual=False, fit_intercept=True,\n",
       "          intercept_scaling=1, max_iter=100, multi_class='ovr', n_jobs=1,\n",
       "          penalty='l2', random_state=None, solver='liblinear', tol=0.0001,\n",
       "          verbose=0, warm_start=False)"
      ]
     },
     "execution_count": 78,
     "metadata": {},
     "output_type": "execute_result"
    }
   ],
   "source": [
    "# Build a Logistic Regression Classifier, train with standardized tf-idf vectors\n",
    "\n",
    "from sklearn.linear_model import LogisticRegression\n",
    "\n",
    "# To be implemented\n",
    "clf_lrc = LogisticRegression()\n",
    "\n",
    "clf_lrc.fit(X_scaled_train, target_train)"
   ]
  },
  {
   "cell_type": "code",
   "execution_count": 79,
   "metadata": {},
   "outputs": [
    {
     "name": "stdout",
     "output_type": "stream",
     "text": [
      "              train      test\n",
      "metrics                      \n",
      "AUC        0.904200  0.903739\n",
      "Accuracy   0.823215  0.822988\n",
      "Precision  0.808597  0.810161\n",
      "Recall     0.829105  0.827591\n",
      "f1-score   0.818723  0.818783\n"
     ]
    },
    {
     "data": {
      "image/png": "[encoded data removed]",
      "text/plain": [
       "<matplotlib.figure.Figure at 0x10ee24090>"
      ]
     },
     "metadata": {},
     "output_type": "display_data"
    }
   ],
   "source": [
    "# Get score for training set & test set\n",
    "train_test_model(clf_lrc, X_scaled_train, target_train, X_scaled_test, target_test)"
   ]
  },
  {
   "cell_type": "markdown",
   "metadata": {},
   "source": [
    "#### Use (Stardardized + PCA) tf-idf vectors as features"
   ]
  },
  {
   "cell_type": "code",
   "execution_count": 80,
   "metadata": {},
   "outputs": [
    {
     "data": {
      "text/plain": [
       "LogisticRegression(C=1.0, class_weight=None, dual=False, fit_intercept=True,\n",
       "          intercept_scaling=1, max_iter=100, multi_class='ovr', n_jobs=1,\n",
       "          penalty='l2', random_state=None, solver='liblinear', tol=0.0001,\n",
       "          verbose=0, warm_start=False)"
      ]
     },
     "execution_count": 80,
     "metadata": {},
     "output_type": "execute_result"
    }
   ],
   "source": [
    "# Build a Logistic Regression Classifier, train with PCA tranformed X\n",
    "\n",
    "from sklearn.linear_model import LogisticRegression\n",
    "\n",
    "# To be implemented\n",
    "clf_lrc_pca = LogisticRegression()\n",
    "\n",
    "clf_lrc_pca.fit(X_scaled_train, target_train)"
   ]
  },
  {
   "cell_type": "code",
   "execution_count": 81,
   "metadata": {},
   "outputs": [
    {
     "name": "stdout",
     "output_type": "stream",
     "text": [
      "              train      test\n",
      "metrics                      \n",
      "AUC        0.885752  0.887952\n",
      "Accuracy   0.804077  0.807261\n",
      "Precision  0.789240  0.794378\n",
      "Recall     0.809187  0.811057\n",
      "f1-score   0.799089  0.802631\n"
     ]
    },
    {
     "data": {
      "image/png": "[encoded data removed]",
      "text/plain": [
       "<matplotlib.figure.Figure at 0x1175b4910>"
      ]
     },
     "metadata": {},
     "output_type": "display_data"
    }
   ],
   "source": [
    "# Get score for training set & test set\n",
    "train_test_model(clf_lrc_pca, train_components, target_train, test_components, target_test)"
   ]
  },
  {
   "cell_type": "markdown",
   "metadata": {},
   "source": [
    "#### Q: What do you see from the training score and the test score? How do you compare the results from PCA and non-PCA preprocessing?"
   ]
  },
  {
   "cell_type": "markdown",
   "metadata": {},
   "source": [
    "##### Answer: \n",
    "1. In terms of running time, when using PCA preprocessing features to fit logistic model, it's much faster than non-PCA ones. The reason is that some data information is missing after PCA processing.\n",
    "2. In terms of scores(metrics), the PCA ones has lower scores. Comparing the difference between train score and testing score, PCA results has larger gap between test and train. One way to explain is that the model is likely to be overfitting, and thus larger gap between training metric and testing metric. "
   ]
  },
  {
   "cell_type": "markdown",
   "metadata": {},
   "source": [
    "#### You can plot the coefficients against principal components\n"
   ]
  },
  {
   "cell_type": "code",
   "execution_count": 82,
   "metadata": {},
   "outputs": [
    {
     "data": {
      "text/plain": [
       "array([-0.67527335, -0.07678168,  0.40578055, -0.17002506,  0.06806783,\n",
       "       -0.46609811, -0.32553711, -0.2129535 , -0.02244735,  0.38147949,\n",
       "        0.22692971,  0.0283095 ,  0.15839265,  0.07081957,  0.05934944,\n",
       "        0.09549491, -0.15031756, -0.05958701,  0.00167373,  0.0134592 ,\n",
       "       -0.05036382,  0.01893647, -0.22443385, -0.12746982,  0.08157187,\n",
       "       -0.10017953, -0.02436081,  0.1273737 , -0.01877323,  0.05639671,\n",
       "        0.03980726, -0.07823129,  0.02372126, -0.01190005, -0.09235316,\n",
       "        0.04547653,  0.01186553, -0.06672264, -0.01538067,  0.03546617,\n",
       "        0.03689038,  0.03624073,  0.04727058, -0.06908692,  0.02484438,\n",
       "       -0.03537904, -0.13931215, -0.08209837,  0.10809152, -0.0087252 ])"
      ]
     },
     "execution_count": 82,
     "metadata": {},
     "output_type": "execute_result"
    }
   ],
   "source": [
    "# To be implemented\n",
    "clf_lrc_pca.coef_[0]"
   ]
  },
  {
   "cell_type": "code",
   "execution_count": 83,
   "metadata": {},
   "outputs": [
    {
     "data": {
      "text/plain": [
       "Text(0,0.5,u'Coefficients')"
      ]
     },
     "execution_count": 83,
     "metadata": {},
     "output_type": "execute_result"
    },
    {
     "data": {
      "image/png": "[encoded data removed]",
      "text/plain": [
       "<matplotlib.figure.Figure at 0x11c4c2710>"
      ]
     },
     "metadata": {},
     "output_type": "display_data"
    }
   ],
   "source": [
    "# To be implemented\n",
    "pca_range = np.arange(50) + 1\n",
    "\n",
    "pca_names = ['PCA_%s' % i for i in pca_range]\n",
    "\n",
    "plt.bar(pca_range, clf_lrc_pca.coef_[0], align='center')\n",
    "\n",
    "xticks = plt.xticks(pca_range, pca_names, rotation=90)\n",
    "\n",
    "plt.ylabel('Coefficients')"
   ]
  },
  {
   "cell_type": "markdown",
   "metadata": {},
   "source": [
    "### Random Forest Classifier\n",
    "#### Use standardized tf-idf vectors as features"
   ]
  },
  {
   "cell_type": "code",
   "execution_count": 84,
   "metadata": {},
   "outputs": [
    {
     "data": {
      "text/plain": [
       "RandomForestClassifier(bootstrap=True, class_weight=None, criterion='gini',\n",
       "            max_depth=20, max_features='auto', max_leaf_nodes=None,\n",
       "            min_impurity_decrease=0.0, min_impurity_split=None,\n",
       "            min_samples_leaf=100, min_samples_split=2,\n",
       "            min_weight_fraction_leaf=0.0, n_estimators=10, n_jobs=1,\n",
       "            oob_score=False, random_state=None, verbose=0,\n",
       "            warm_start=False)"
      ]
     },
     "execution_count": 84,
     "metadata": {},
     "output_type": "execute_result"
    }
   ],
   "source": [
    "# Build a Random Forest Classifier\n",
    "\n",
    "from sklearn.ensemble import RandomForestClassifier\n",
    "\n",
    "# To be implemented\n",
    "clf_rfc = RandomForestClassifier(max_depth=20, n_estimators=10, min_samples_leaf=100)\n",
    "\n",
    "clf_rfc.fit(X_scaled_train, target_train)"
   ]
  },
  {
   "cell_type": "code",
   "execution_count": 85,
   "metadata": {},
   "outputs": [
    {
     "name": "stdout",
     "output_type": "stream",
     "text": [
      "              train      test\n",
      "metrics                      \n",
      "AUC        0.854964  0.851025\n",
      "Accuracy   0.773516  0.770930\n",
      "Precision  0.758733  0.757180\n",
      "Recall     0.776570  0.774213\n",
      "f1-score   0.767548  0.765601\n"
     ]
    },
    {
     "data": {
      "image/png": "[encoded data removed]",
      "text/plain": [
       "<matplotlib.figure.Figure at 0x116068fd0>"
      ]
     },
     "metadata": {},
     "output_type": "display_data"
    }
   ],
   "source": [
    "# Get score for training set & test set\n",
    "train_test_model(clf_rfc, X_scaled_train, target_train, X_scaled_test, target_test)"
   ]
  },
  {
   "cell_type": "markdown",
   "metadata": {},
   "source": [
    "#### Use (Stardardized + PCA) tf-idf vectors as features"
   ]
  },
  {
   "cell_type": "code",
   "execution_count": 86,
   "metadata": {},
   "outputs": [
    {
     "data": {
      "text/plain": [
       "RandomForestClassifier(bootstrap=True, class_weight=None, criterion='gini',\n",
       "            max_depth=20, max_features='auto', max_leaf_nodes=None,\n",
       "            min_impurity_decrease=0.0, min_impurity_split=None,\n",
       "            min_samples_leaf=100, min_samples_split=2,\n",
       "            min_weight_fraction_leaf=0.0, n_estimators=10, n_jobs=1,\n",
       "            oob_score=False, random_state=None, verbose=0,\n",
       "            warm_start=False)"
      ]
     },
     "execution_count": 86,
     "metadata": {},
     "output_type": "execute_result"
    }
   ],
   "source": [
    "# Build a Random Forest Classifier\n",
    "\n",
    "from sklearn.ensemble import RandomForestClassifier\n",
    "\n",
    "# To be implemented\n",
    "clf_rfc_pca = RandomForestClassifier(max_depth=20, n_estimators=10, min_samples_leaf=100)\n",
    "\n",
    "clf_rfc_pca.fit(train_components, target_train)"
   ]
  },
  {
   "cell_type": "code",
   "execution_count": 87,
   "metadata": {},
   "outputs": [
    {
     "name": "stdout",
     "output_type": "stream",
     "text": [
      "              train      test\n",
      "metrics                      \n",
      "AUC        0.886215  0.868148\n",
      "Accuracy   0.799635  0.784153\n",
      "Precision  0.786781  0.773323\n",
      "Recall     0.800928  0.782729\n",
      "f1-score   0.793792  0.777998\n"
     ]
    },
    {
     "data": {
      "image/png": "[encoded data removed]",
      "text/plain": [
       "<matplotlib.figure.Figure at 0x118160510>"
      ]
     },
     "metadata": {},
     "output_type": "display_data"
    }
   ],
   "source": [
    "# Get score for training set & test set\n",
    "train_test_model(clf_rfc_pca, train_components, target_train, test_components, target_test)"
   ]
  },
  {
   "cell_type": "markdown",
   "metadata": {},
   "source": [
    "#### Q: What do you see from the training result and the test result?"
   ]
  },
  {
   "cell_type": "markdown",
   "metadata": {},
   "source": [
    "##### Answer: \n",
    "1. In terms of running time, when using PCA preprocessing features to fit logistic model, it's much faster than non-PCA ones. The reason is that some data information is missing after PCA processing.\n",
    "2. In terms of scores(metrics), the PCA ones has higher scores. Comparing the difference between train score and testing score, PCA results has larger gap between test and train. One way to explain is that the model is likely to be overfitting, and thus larger gap between training metric and testing metric."
   ]
  },
  {
   "cell_type": "markdown",
   "metadata": {},
   "source": [
    "#### We can plot the feature importances against principal components\n"
   ]
  },
  {
   "cell_type": "code",
   "execution_count": 88,
   "metadata": {},
   "outputs": [
    {
     "data": {
      "text/plain": [
       "array([0.40342457, 0.03071649, 0.10001541, 0.02846699, 0.01009572,\n",
       "       0.10817584, 0.0542683 , 0.03056815, 0.00599734, 0.06336075,\n",
       "       0.01571544, 0.00400652, 0.01017068, 0.00526184, 0.00351969,\n",
       "       0.00705491, 0.0081436 , 0.00636749, 0.0034519 , 0.00216531,\n",
       "       0.00343625, 0.00211406, 0.01616753, 0.00647359, 0.00297649,\n",
       "       0.00476321, 0.00242095, 0.00339533, 0.00401068, 0.00325879,\n",
       "       0.00236159, 0.00277013, 0.00385414, 0.00278285, 0.00775533,\n",
       "       0.0027986 , 0.00188916, 0.0016999 , 0.00156412, 0.00157669,\n",
       "       0.00212216, 0.00138965, 0.00146274, 0.00166543, 0.00188138,\n",
       "       0.00126533, 0.00330999, 0.00194109, 0.00448214, 0.00146377])"
      ]
     },
     "execution_count": 88,
     "metadata": {},
     "output_type": "execute_result"
    }
   ],
   "source": [
    "# To be implemented\n",
    "clf_rfc_pca.feature_importances_"
   ]
  },
  {
   "cell_type": "code",
   "execution_count": 89,
   "metadata": {},
   "outputs": [
    {
     "data": {
      "text/plain": [
       "Text(0,0.5,u'feature importance')"
      ]
     },
     "execution_count": 89,
     "metadata": {},
     "output_type": "execute_result"
    },
    {
     "data": {
      "image/png": "[encoded data removed]",
      "text/plain": [
       "<matplotlib.figure.Figure at 0x11b174d10>"
      ]
     },
     "metadata": {},
     "output_type": "display_data"
    }
   ],
   "source": [
    "pca_range = np.arange(50) + 1\n",
    "\n",
    "pca_names = ['PCA_%s' % i for i in pca_range]\n",
    "\n",
    "plt.bar(pca_range, clf_rfc_pca.feature_importances_, align='center')\n",
    "\n",
    "xticks = plt.xticks(pca_range, pca_names, rotation=90)\n",
    "\n",
    "plt.ylabel('feature importance')"
   ]
  }
 ],
 "metadata": {
  "anaconda-cloud": {},
  "kernelspec": {
   "display_name": "Python 2",
   "language": "python",
   "name": "python2"
  },
  "language_info": {
   "codemirror_mode": {
    "name": "ipython",
    "version": 2
   },
   "file_extension": ".py",
   "mimetype": "text/x-python",
   "name": "python",
   "nbconvert_exporter": "python",
   "pygments_lexer": "ipython2",
   "version": "2.7.15"
  }
 },
 "nbformat": 4,
 "nbformat_minor": 1
}
