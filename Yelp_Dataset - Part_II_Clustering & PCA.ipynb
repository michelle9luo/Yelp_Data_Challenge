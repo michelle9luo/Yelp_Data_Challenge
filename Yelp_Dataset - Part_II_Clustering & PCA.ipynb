{
 "cells": [
  {
   "cell_type": "markdown",
   "metadata": {},
   "source": [
    "# Yelp Data Challenge \n",
    "## Part II - Clustering and PCA"
   ]
  },
  {
   "cell_type": "code",
   "execution_count": 1,
   "metadata": {},
   "outputs": [],
   "source": [
    "import pandas as pd\n",
    "import numpy as np\n",
    "import matplotlib.pyplot as plt\n",
    "% matplotlib inline\n",
    "plt.style.use(\"ggplot\")"
   ]
  },
  {
   "cell_type": "code",
   "execution_count": 2,
   "metadata": {},
   "outputs": [],
   "source": [
    "df = pd.read_csv('yelp_dataset/last_3_years_restaurant_reviews.csv')"
   ]
  },
  {
   "cell_type": "code",
   "execution_count": 3,
   "metadata": {},
   "outputs": [
    {
     "data": {
      "text/html": [
       "<div>\n",
       "<style scoped>\n",
       "    .dataframe tbody tr th:only-of-type {\n",
       "        vertical-align: middle;\n",
       "    }\n",
       "\n",
       "    .dataframe tbody tr th {\n",
       "        vertical-align: top;\n",
       "    }\n",
       "\n",
       "    .dataframe thead th {\n",
       "        text-align: right;\n",
       "    }\n",
       "</style>\n",
       "<table border=\"1\" class=\"dataframe\">\n",
       "  <thead>\n",
       "    <tr style=\"text-align: right;\">\n",
       "      <th></th>\n",
       "      <th>Unnamed: 0</th>\n",
       "      <th>business_id</th>\n",
       "      <th>name</th>\n",
       "      <th>categories</th>\n",
       "      <th>avg_stars</th>\n",
       "      <th>cool</th>\n",
       "      <th>date</th>\n",
       "      <th>funny</th>\n",
       "      <th>review_id</th>\n",
       "      <th>stars</th>\n",
       "      <th>text</th>\n",
       "      <th>useful</th>\n",
       "      <th>user_id</th>\n",
       "    </tr>\n",
       "  </thead>\n",
       "  <tbody>\n",
       "    <tr>\n",
       "      <th>0</th>\n",
       "      <td>1</td>\n",
       "      <td>--9e1ONYQuAa-CB_Rrw7Tw</td>\n",
       "      <td>Delmonico Steakhouse</td>\n",
       "      <td>Steakhouses, Restaurants, Cajun/Creole</td>\n",
       "      <td>4.0</td>\n",
       "      <td>0</td>\n",
       "      <td>2017-02-14</td>\n",
       "      <td>0</td>\n",
       "      <td>VETXTwMw6qxzOVDlXfe6Tg</td>\n",
       "      <td>5</td>\n",
       "      <td>went for dinner tonight. Amazing my husband ha...</td>\n",
       "      <td>0</td>\n",
       "      <td>ymlnR8UeFvB4FZL56tCZsA</td>\n",
       "    </tr>\n",
       "    <tr>\n",
       "      <th>1</th>\n",
       "      <td>6</td>\n",
       "      <td>--9e1ONYQuAa-CB_Rrw7Tw</td>\n",
       "      <td>Delmonico Steakhouse</td>\n",
       "      <td>Steakhouses, Restaurants, Cajun/Creole</td>\n",
       "      <td>4.0</td>\n",
       "      <td>0</td>\n",
       "      <td>2017-12-04</td>\n",
       "      <td>0</td>\n",
       "      <td>S8-8uZ7fa5YbjnEtaW15ng</td>\n",
       "      <td>5</td>\n",
       "      <td>This was an amazing dinning experience! ORDER ...</td>\n",
       "      <td>0</td>\n",
       "      <td>9pSSL6X6lFpY3FCRLEH3og</td>\n",
       "    </tr>\n",
       "    <tr>\n",
       "      <th>2</th>\n",
       "      <td>14</td>\n",
       "      <td>--9e1ONYQuAa-CB_Rrw7Tw</td>\n",
       "      <td>Delmonico Steakhouse</td>\n",
       "      <td>Steakhouses, Restaurants, Cajun/Creole</td>\n",
       "      <td>4.0</td>\n",
       "      <td>0</td>\n",
       "      <td>2016-08-22</td>\n",
       "      <td>1</td>\n",
       "      <td>1nK5w0VNfDlnR3bOz13dJQ</td>\n",
       "      <td>5</td>\n",
       "      <td>My husband and I went there for lunch on a Sat...</td>\n",
       "      <td>1</td>\n",
       "      <td>gm8nNoA3uB4In5o_Hxpq3g</td>\n",
       "    </tr>\n",
       "    <tr>\n",
       "      <th>3</th>\n",
       "      <td>15</td>\n",
       "      <td>--9e1ONYQuAa-CB_Rrw7Tw</td>\n",
       "      <td>Delmonico Steakhouse</td>\n",
       "      <td>Steakhouses, Restaurants, Cajun/Creole</td>\n",
       "      <td>4.0</td>\n",
       "      <td>0</td>\n",
       "      <td>2016-09-13</td>\n",
       "      <td>0</td>\n",
       "      <td>N1Z93BthdJ7FT2p5S22jIA</td>\n",
       "      <td>3</td>\n",
       "      <td>Went for a nice anniversary dinner. Researched...</td>\n",
       "      <td>0</td>\n",
       "      <td>CEtidlXNyQzgJSdF1ubPFw</td>\n",
       "    </tr>\n",
       "    <tr>\n",
       "      <th>4</th>\n",
       "      <td>27</td>\n",
       "      <td>--9e1ONYQuAa-CB_Rrw7Tw</td>\n",
       "      <td>Delmonico Steakhouse</td>\n",
       "      <td>Steakhouses, Restaurants, Cajun/Creole</td>\n",
       "      <td>4.0</td>\n",
       "      <td>0</td>\n",
       "      <td>2016-08-08</td>\n",
       "      <td>0</td>\n",
       "      <td>ir-EVhHyWna7KqYWtj660g</td>\n",
       "      <td>5</td>\n",
       "      <td>Hands down the best meal and service I have ev...</td>\n",
       "      <td>0</td>\n",
       "      <td>9_BhDyzJYf2JwTD9TyXJ4g</td>\n",
       "    </tr>\n",
       "  </tbody>\n",
       "</table>\n",
       "</div>"
      ],
      "text/plain": [
       "   Unnamed: 0             business_id                  name  \\\n",
       "0           1  --9e1ONYQuAa-CB_Rrw7Tw  Delmonico Steakhouse   \n",
       "1           6  --9e1ONYQuAa-CB_Rrw7Tw  Delmonico Steakhouse   \n",
       "2          14  --9e1ONYQuAa-CB_Rrw7Tw  Delmonico Steakhouse   \n",
       "3          15  --9e1ONYQuAa-CB_Rrw7Tw  Delmonico Steakhouse   \n",
       "4          27  --9e1ONYQuAa-CB_Rrw7Tw  Delmonico Steakhouse   \n",
       "\n",
       "                               categories  avg_stars  cool        date  funny  \\\n",
       "0  Steakhouses, Restaurants, Cajun/Creole        4.0     0  2017-02-14      0   \n",
       "1  Steakhouses, Restaurants, Cajun/Creole        4.0     0  2017-12-04      0   \n",
       "2  Steakhouses, Restaurants, Cajun/Creole        4.0     0  2016-08-22      1   \n",
       "3  Steakhouses, Restaurants, Cajun/Creole        4.0     0  2016-09-13      0   \n",
       "4  Steakhouses, Restaurants, Cajun/Creole        4.0     0  2016-08-08      0   \n",
       "\n",
       "                review_id  stars  \\\n",
       "0  VETXTwMw6qxzOVDlXfe6Tg      5   \n",
       "1  S8-8uZ7fa5YbjnEtaW15ng      5   \n",
       "2  1nK5w0VNfDlnR3bOz13dJQ      5   \n",
       "3  N1Z93BthdJ7FT2p5S22jIA      3   \n",
       "4  ir-EVhHyWna7KqYWtj660g      5   \n",
       "\n",
       "                                                text  useful  \\\n",
       "0  went for dinner tonight. Amazing my husband ha...       0   \n",
       "1  This was an amazing dinning experience! ORDER ...       0   \n",
       "2  My husband and I went there for lunch on a Sat...       1   \n",
       "3  Went for a nice anniversary dinner. Researched...       0   \n",
       "4  Hands down the best meal and service I have ev...       0   \n",
       "\n",
       "                  user_id  \n",
       "0  ymlnR8UeFvB4FZL56tCZsA  \n",
       "1  9pSSL6X6lFpY3FCRLEH3og  \n",
       "2  gm8nNoA3uB4In5o_Hxpq3g  \n",
       "3  CEtidlXNyQzgJSdF1ubPFw  \n",
       "4  9_BhDyzJYf2JwTD9TyXJ4g  "
      ]
     },
     "execution_count": 3,
     "metadata": {},
     "output_type": "execute_result"
    }
   ],
   "source": [
    "df.head()"
   ]
  },
  {
   "cell_type": "markdown",
   "metadata": {},
   "source": [
    "## 1. Cluster the review text data for all the restaurants"
   ]
  },
  {
   "cell_type": "markdown",
   "metadata": {},
   "source": [
    "### Define your feature variables, here is the text of the review"
   ]
  },
  {
   "cell_type": "code",
   "execution_count": 5,
   "metadata": {},
   "outputs": [
    {
     "data": {
      "text/plain": [
       "array([\"went for dinner tonight. Amazing my husband had lobster bisque and the T bone both were delish.I had the French onion soup and the pan seared duck. Cooked to perfection and I'm still raving about the flavor. If you are ever in Vegas this is a must try.\",\n",
       "       'This was an amazing dinning experience! ORDER THE PORK CHOP! I will definitely return.',\n",
       "       \"My husband and I went there for lunch on a Saturday. We had a physically exhausting week so we decided to treat ourselves. But it hasn't always been easy for our allergy whenever we ate out. So we called Delmonico ahead to see if they can accommodate our special needs. The lady who answered our call was very courteous and we felt comfortable to try after having some answers from her.\\nAs we arrived, the restaurant has a comfortable ambience. I wouldn't say it is grand or special but just comfortable. When it was time to order, the server was courteous regarding our allergy too and I believe the one who took care of us was a manager. He even checked with the chef to make sure the complimentary popover was okay for us to consume. We told them we are allergic to soy, corn, peanut, tomato and pork products, and some other stuff, and he had been very mindful and advised accordingly as we ordered, he did it so graciously that we didn't feel being put in a spot. Some other semi high end restaurants had given us a startled face or even an uncomfortable face when we mentioned our allergy, but this manager was super professional that he didn't make us feel crappy about our differences from others. So he made a potential stressful situation easy for us, very impressive.\\nTheir steak was aged in house by the restaurant and we think their aging was done fabulously as there was no rotten smell or taste in it. The manager even double checked with us and informed us that the beef was sourced from corn fed cows and asked if we would be able to tolerate that. And we made our decision to say yes and went ahead with the steak. Their steaks were very delicious. We actually asked for medium well with no seasoning and the steak still came out super delicious and juicy. So the good quality is in the steak itself and didn't need to depend on seasoning or being served bloodily. Again, very impressive.\\nAnyway, it was a delicious meal and we were well taken care of so we didn't get sick from any event of undisclosed allergens. We are very happy with this meal. We would go back when we have another time wanting to treat ourselves again. Hopefully the manager will be there again the next time we visit.\",\n",
       "       \"Went for a nice anniversary dinner. Researched a lot of steakhouses and thought this was reasonably priced (compared to others) for Vegas so thought we'd give it a shot. made reservations but was not crowded on a Monday night. We split the bbq shrimp which were very good for an appetizer. Then we each had salads. I ordered the filet mignon which was a small 6oz serving for $50. I could've easily eaten 2 of them. But the steak was very tender and nicely seasoned. Husband had the bone in ribeye which is what they are known for. He enjoyed it. We split the mashed potatoes which were very good, but kinda hard to screw those up. We each had 1 drink and the bill was $200. Service was good. They give you nice warm rolls which were tasty. We would go back, but we like trying new places and it will probably be a few years before we go back to Vegas anyways.\",\n",
       "       'Hands down the best meal and service I have ever had! We all did the three course special which was great and the portions were triple the size what I thought they would be! Michael and Drew were awesome waiters and made sure everything was perfect. I know my family will talk about that night for years to come!'],\n",
       "      dtype=object)"
      ]
     },
     "execution_count": 5,
     "metadata": {},
     "output_type": "execute_result"
    }
   ],
   "source": [
    "# Take the values of the column that contains review text data, save to a variable named \"documents\"\n",
    "# removing na reviews\n",
    "documents = df['text']\n",
    "indx = pd.notnull(documents)\n",
    "documents = documents[indx]\n",
    "documents = documents.values\n",
    "documents[:5]"
   ]
  },
  {
   "cell_type": "markdown",
   "metadata": {},
   "source": [
    "### Define your target variable (any categorical variable that may be meaningful)"
   ]
  },
  {
   "cell_type": "markdown",
   "metadata": {},
   "source": [
    "#### For example, I am interested in perfect (5 stars) and imperfect (1-4 stars) rating"
   ]
  },
  {
   "cell_type": "code",
   "execution_count": 6,
   "metadata": {},
   "outputs": [
    {
     "data": {
      "text/plain": [
       "False    0.518158\n",
       "True     0.481842\n",
       "Name: is_pos_review, dtype: float64"
      ]
     },
     "execution_count": 6,
     "metadata": {},
     "output_type": "execute_result"
    }
   ],
   "source": [
    "# Make a column and take the values, save to a variable named \"target\"\n",
    "df['is_pos_review'] = (df['stars']>4)\n",
    "df['is_pos_review'].value_counts(normalize=True)"
   ]
  },
  {
   "cell_type": "code",
   "execution_count": 7,
   "metadata": {},
   "outputs": [
    {
     "data": {
      "text/plain": [
       "array([ True,  True,  True, False,  True,  True,  True,  True, False,\n",
       "        True])"
      ]
     },
     "execution_count": 7,
     "metadata": {},
     "output_type": "execute_result"
    }
   ],
   "source": [
    "# Make a column and take the values, save to a variable named \"target\"\n",
    "target = df['is_pos_review'].values\n",
    "target = target[indx]\n",
    "target[:10]"
   ]
  },
  {
   "cell_type": "code",
   "execution_count": 8,
   "metadata": {},
   "outputs": [],
   "source": [
    "indices = df.index"
   ]
  },
  {
   "cell_type": "markdown",
   "metadata": {},
   "source": [
    "#### You may want to look at the statistic of the target variable"
   ]
  },
  {
   "cell_type": "code",
   "execution_count": 9,
   "metadata": {
    "scrolled": true
   },
   "outputs": [
    {
     "data": {
      "text/plain": [
       "(558887, 558887)"
      ]
     },
     "execution_count": 9,
     "metadata": {},
     "output_type": "execute_result"
    }
   ],
   "source": [
    "# To be implemented\n",
    "documents.size,target.size"
   ]
  },
  {
   "cell_type": "code",
   "execution_count": 10,
   "metadata": {
    "scrolled": false
   },
   "outputs": [
    {
     "data": {
      "text/plain": [
       "0.4818415887290275"
      ]
     },
     "execution_count": 10,
     "metadata": {},
     "output_type": "execute_result"
    }
   ],
   "source": [
    "target.mean()"
   ]
  },
  {
   "cell_type": "markdown",
   "metadata": {},
   "source": [
    "##### Get positive reviews for clustering"
   ]
  },
  {
   "cell_type": "code",
   "execution_count": 11,
   "metadata": {},
   "outputs": [],
   "source": [
    "df_pos_reviews = df[df['is_pos_review']==True].copy()"
   ]
  },
  {
   "cell_type": "code",
   "execution_count": 12,
   "metadata": {},
   "outputs": [
    {
     "data": {
      "text/plain": [
       "(269295, 14)"
      ]
     },
     "execution_count": 12,
     "metadata": {},
     "output_type": "execute_result"
    }
   ],
   "source": [
    "df_pos_reviews.shape"
   ]
  },
  {
   "cell_type": "code",
   "execution_count": 13,
   "metadata": {},
   "outputs": [
    {
     "data": {
      "text/plain": [
       "array([\"went for dinner tonight. Amazing my husband had lobster bisque and the T bone both were delish.I had the French onion soup and the pan seared duck. Cooked to perfection and I'm still raving about the flavor. If you are ever in Vegas this is a must try.\",\n",
       "       'This was an amazing dinning experience! ORDER THE PORK CHOP! I will definitely return.',\n",
       "       \"My husband and I went there for lunch on a Saturday. We had a physically exhausting week so we decided to treat ourselves. But it hasn't always been easy for our allergy whenever we ate out. So we called Delmonico ahead to see if they can accommodate our special needs. The lady who answered our call was very courteous and we felt comfortable to try after having some answers from her.\\nAs we arrived, the restaurant has a comfortable ambience. I wouldn't say it is grand or special but just comfortable. When it was time to order, the server was courteous regarding our allergy too and I believe the one who took care of us was a manager. He even checked with the chef to make sure the complimentary popover was okay for us to consume. We told them we are allergic to soy, corn, peanut, tomato and pork products, and some other stuff, and he had been very mindful and advised accordingly as we ordered, he did it so graciously that we didn't feel being put in a spot. Some other semi high end restaurants had given us a startled face or even an uncomfortable face when we mentioned our allergy, but this manager was super professional that he didn't make us feel crappy about our differences from others. So he made a potential stressful situation easy for us, very impressive.\\nTheir steak was aged in house by the restaurant and we think their aging was done fabulously as there was no rotten smell or taste in it. The manager even double checked with us and informed us that the beef was sourced from corn fed cows and asked if we would be able to tolerate that. And we made our decision to say yes and went ahead with the steak. Their steaks were very delicious. We actually asked for medium well with no seasoning and the steak still came out super delicious and juicy. So the good quality is in the steak itself and didn't need to depend on seasoning or being served bloodily. Again, very impressive.\\nAnyway, it was a delicious meal and we were well taken care of so we didn't get sick from any event of undisclosed allergens. We are very happy with this meal. We would go back when we have another time wanting to treat ourselves again. Hopefully the manager will be there again the next time we visit.\",\n",
       "       'Hands down the best meal and service I have ever had! We all did the three course special which was great and the portions were triple the size what I thought they would be! Michael and Drew were awesome waiters and made sure everything was perfect. I know my family will talk about that night for years to come!',\n",
       "       'ABSOLUTE MUST IN VEGAS! Loved everything my boyfriend and I got and the service was amazing! Seriously this place is amazing'],\n",
       "      dtype=object)"
      ]
     },
     "execution_count": 13,
     "metadata": {},
     "output_type": "execute_result"
    }
   ],
   "source": [
    "documents_pos = df_pos_reviews['text']\n",
    "indx2 = pd.notnull(documents_pos)\n",
    "documents_pos = documents_pos[indx2]\n",
    "documents_pos = documents_pos.values\n",
    "documents_pos[:5]"
   ]
  },
  {
   "cell_type": "code",
   "execution_count": 14,
   "metadata": {},
   "outputs": [
    {
     "data": {
      "text/plain": [
       "array([ True,  True,  True,  True,  True,  True,  True,  True,  True,\n",
       "        True])"
      ]
     },
     "execution_count": 14,
     "metadata": {},
     "output_type": "execute_result"
    }
   ],
   "source": [
    "target_pos = df_pos_reviews['is_pos_review'].values\n",
    "target_pos = target_pos[indx2]\n",
    "target_pos[:10]"
   ]
  },
  {
   "cell_type": "code",
   "execution_count": 15,
   "metadata": {},
   "outputs": [],
   "source": [
    "ind_pos = df_pos_reviews.index"
   ]
  },
  {
   "cell_type": "markdown",
   "metadata": {},
   "source": [
    "### Create training dataset and test dataset"
   ]
  },
  {
   "cell_type": "code",
   "execution_count": 16,
   "metadata": {},
   "outputs": [
    {
     "name": "stderr",
     "output_type": "stream",
     "text": [
      "/Users/jieluo/anaconda2/lib/python2.7/site-packages/sklearn/cross_validation.py:41: DeprecationWarning: This module was deprecated in version 0.18 in favor of the model_selection module into which all the refactored classes and functions are moved. Also note that the interface of the new CV iterators are different from that of this module. This module will be removed in 0.20.\n",
      "  \"This module will be removed in 0.20.\", DeprecationWarning)\n"
     ]
    }
   ],
   "source": [
    "from sklearn.cross_validation import train_test_split"
   ]
  },
  {
   "cell_type": "code",
   "execution_count": 17,
   "metadata": {},
   "outputs": [],
   "source": [
    "# documents is your X, target is your y\n",
    "# Now split the data to training set and test set\n",
    "# You may want to start with a big \"test_size\", since large training set can easily crash your laptop.\n",
    "documents_train,documents_test,target_train,target_test,indices_train,indices_test = train_test_split(documents,target,indices,test_size=0.2, random_state=0)"
   ]
  },
  {
   "cell_type": "markdown",
   "metadata": {},
   "source": [
    "### Get NLP representation of the documents\n",
    "\n",
    "#### Fit TfidfVectorizer with training data only, then tranform all the data to tf-idf"
   ]
  },
  {
   "cell_type": "code",
   "execution_count": 18,
   "metadata": {},
   "outputs": [],
   "source": [
    "from sklearn.feature_extraction.text import TfidfVectorizer"
   ]
  },
  {
   "cell_type": "code",
   "execution_count": 19,
   "metadata": {},
   "outputs": [],
   "source": [
    "# Create TfidfVectorizer, and name it vectorizer, choose a reasonable max_features, e.g. 1000\n",
    "vectorizer = TfidfVectorizer(stop_words='english',max_features=1000,min_df=1)"
   ]
  },
  {
   "cell_type": "code",
   "execution_count": 20,
   "metadata": {},
   "outputs": [],
   "source": [
    "# Train the model with your training data\n",
    "X_train = vectorizer.fit_transform(documents_train).toarray()"
   ]
  },
  {
   "cell_type": "code",
   "execution_count": 21,
   "metadata": {},
   "outputs": [],
   "source": [
    "# Get the vocab of your tfidf\n",
    "features_name = vectorizer.get_feature_names()"
   ]
  },
  {
   "cell_type": "code",
   "execution_count": 22,
   "metadata": {},
   "outputs": [],
   "source": [
    "# Use the trained model to transform test\n",
    "X_test = vectorizer.transform(documents_test).toarray()"
   ]
  },
  {
   "cell_type": "code",
   "execution_count": 23,
   "metadata": {},
   "outputs": [],
   "source": [
    "# Use the trained model to transform all the reviews\n",
    "X_all = vectorizer.transform(documents).toarray()"
   ]
  },
  {
   "cell_type": "markdown",
   "metadata": {},
   "source": [
    "### Cluster reviews with KMeans"
   ]
  },
  {
   "cell_type": "markdown",
   "metadata": {},
   "source": [
    "#### Fit k-means clustering with the training vectors and apply it on all the data"
   ]
  },
  {
   "cell_type": "code",
   "execution_count": 24,
   "metadata": {},
   "outputs": [
    {
     "data": {
      "text/plain": [
       "KMeans(algorithm='auto', copy_x=True, init='k-means++', max_iter=300,\n",
       "    n_clusters=2, n_init=10, n_jobs=1, precompute_distances='auto',\n",
       "    random_state=42, tol=0.0001, verbose=0)"
      ]
     },
     "execution_count": 24,
     "metadata": {},
     "output_type": "execute_result"
    }
   ],
   "source": [
    "# To be implemented\n",
    "from sklearn.cluster import KMeans\n",
    "kmeans = KMeans(n_clusters=2,random_state=42)\n",
    "kmeans.fit(X_train)"
   ]
  },
  {
   "cell_type": "markdown",
   "metadata": {},
   "source": [
    "#### Make predictions on all your data"
   ]
  },
  {
   "cell_type": "code",
   "execution_count": 25,
   "metadata": {},
   "outputs": [],
   "source": [
    "# To be implemented\n",
    "assigned_cluster_train = kmeans.predict(X_train)\n",
    "assigned_cluster_test = kmeans.predict(X_test)\n",
    "assigned_cluster_all = kmeans.predict(X_all)"
   ]
  },
  {
   "cell_type": "markdown",
   "metadata": {},
   "source": [
    "#### Inspect the centroids\n",
    "To find out what \"topics\" Kmeans has discovered we must inspect the centroids. Print out the centroids of the Kmeans clustering.\n",
    "\n",
    "   These centroids are simply a bunch of vectors.  To make any sense of them we need to map these vectors back into our 'word space'.  Think of each feature/dimension of the centroid vector as representing the \"average\" review or the average occurances of words for that cluster."
   ]
  },
  {
   "cell_type": "code",
   "execution_count": 26,
   "metadata": {},
   "outputs": [
    {
     "name": "stdout",
     "output_type": "stream",
     "text": [
      "cluster centers:\n",
      "[[0.00319144 0.01038693 0.00231909 ... 0.0019165  0.0031673  0.00566268]\n",
      " [0.00076087 0.00436777 0.00151902 ... 0.0010408  0.00278107 0.00700504]]\n"
     ]
    }
   ],
   "source": [
    "# To be implemented\n",
    "print(\"cluster centers:\")\n",
    "print(kmeans.cluster_centers_)"
   ]
  },
  {
   "cell_type": "markdown",
   "metadata": {},
   "source": [
    "#### Find the top 10 features for each cluster.\n",
    "For topics we are only really interested in the most present words, i.e. features/dimensions with the greatest representation in the centroid.  Print out the top ten words for each centroid.\n",
    "\n",
    "* Sort each centroid vector to find the top 10 features\n",
    "* Go back to your vectorizer object to find out what words each of these features corresponds to.\n"
   ]
  },
  {
   "cell_type": "code",
   "execution_count": 27,
   "metadata": {},
   "outputs": [
    {
     "name": "stdout",
     "output_type": "stream",
     "text": [
      "top features for each cluster:\n",
      "0: good, food, place, like, just, time, ordered, order, chicken, really\n",
      "1: great, food, service, place, amazing, good, best, love, friendly, vegas\n"
     ]
    }
   ],
   "source": [
    "# To be implemented\n",
    "top_centroids = kmeans.cluster_centers_.argsort()[:,-1:-11:-1]\n",
    "print(\"top features for each cluster:\")\n",
    "for num, centroid in enumerate(top_centroids):\n",
    "    print(\"%d: %s\" % (num, \", \".join(features_name[i] for i in centroid)))"
   ]
  },
  {
   "cell_type": "markdown",
   "metadata": {},
   "source": [
    "#### Try different k\n",
    "If you set k == to a different number, how does the top features change?"
   ]
  },
  {
   "cell_type": "code",
   "execution_count": 28,
   "metadata": {},
   "outputs": [],
   "source": [
    "# To be implemented\n",
    "from sklearn.cluster import KMeans\n",
    "kmeans2 = KMeans(n_clusters=5,random_state=42)\n",
    "kmeans2.fit(X_train)\n",
    "assigned_cluster_train2 = kmeans2.predict(X_train)\n",
    "assigned_cluster_test2 = kmeans2.predict(X_test)"
   ]
  },
  {
   "cell_type": "code",
   "execution_count": 29,
   "metadata": {},
   "outputs": [],
   "source": [
    "assigned_cluster_all2 = kmeans2.predict(X_all)"
   ]
  },
  {
   "cell_type": "code",
   "execution_count": 30,
   "metadata": {},
   "outputs": [
    {
     "name": "stdout",
     "output_type": "stream",
     "text": [
      "top features for each cluster:\n",
      "0: food, order, time, just, service, minutes, like, came, didn, place\n",
      "1: pizza, crust, good, place, great, cheese, slice, best, order, just\n",
      "2: great, food, service, place, amazing, good, friendly, staff, love, definitely\n",
      "3: sushi, rolls, place, roll, ayce, great, good, fresh, service, fish\n",
      "4: good, place, food, chicken, like, best, vegas, delicious, really, just\n"
     ]
    }
   ],
   "source": [
    "# To be implemented\n",
    "top_centroids = kmeans2.cluster_centers_.argsort()[:,-1:-11:-1]\n",
    "print(\"top features for each cluster:\")\n",
    "for num, centroid in enumerate(top_centroids):\n",
    "    print(\"%d: %s\" % (num, \", \".join(features_name[i] for i in centroid)))"
   ]
  },
  {
   "cell_type": "markdown",
   "metadata": {},
   "source": [
    "#### Print out the rating and review of a random sample of the reviews assigned to each cluster to get a sense of the cluster."
   ]
  },
  {
   "cell_type": "markdown",
   "metadata": {},
   "source": [
    "##### Rating and reveiw of random sample using n_clusters = 2"
   ]
  },
  {
   "cell_type": "code",
   "execution_count": 32,
   "metadata": {},
   "outputs": [
    {
     "name": "stdout",
     "output_type": "stream",
     "text": [
      "cluster 0:\n",
      "rating: 5.000000\n",
      "       Me and 3 friends came on Valentine's Day so it was B U S Y.  We checked in and were told it was going to be an hour wait. We still waited because I love Hot n Juicy. Because they're so great, and we didn't even wait an hour! We were seated in about 25 minutes. Despite the restaurant being so busy, we were served quickly. Mason made sure we had all of our orders correct and served us quickly and efficiently.\n",
      "rating: 1.000000\n",
      "       The best thing was the chips and salsa. I ordered a shrimp cocktail and it tasted very fishy and BAD (like the shrimp was bad). I only had 2-3 bites at most, and they charged me full price for it. Very bad customer service. Fast forward 12 hours. I'm SICK SICK SICK SICK violently throwing up and cannot hold anything down. I'll spare you the details of the whole food poisioning expirence, but trust me it was 2 days of HELL! THESE GUYS WON'T BE IN BUSINESS LONG WITH THEIR BAD FOOD HANDLING PRACTICE AND LACK OF CUSTOMER SERVICE. I PLAN ON CALLING THE HEALTH DISTRICT AND REPORTING MY ISSUE.\n",
      "STEER CLEAR! YOU WILL THANK ME LATER.\n",
      "rating: 4.000000\n",
      "       Looking back at my weekend in Vegas, this was probably one of the best meals if not the best. My family and I got there at 11am and we were seated at the last open table, one of the larger ones in the center. We noticed that some smaller parties (of 2 or 3) had to share the other large tables. We were lucky that no other small parties came in while we were eating, so we had the entire table to ourselves.\n",
      "\n",
      "We ordered the Pork with Garlic sauce (????), Water Boiled Meat and Fish (????), Mapo Tofu (????), Tan Tan Noodles (???), and Spicy Chicken (???). For all dishes, we could adjust the spice level, so I liked that as someone who generally can't eat too spicy. Everything was authentic, and our family of four actually finished all five dishes. I would say my favorite dish was probably the Pork with Garlic Sauce, followed by the Spicy Chicken. The chicken had a lot of bones to work through, but the flavor was totally on point.\n",
      "\n",
      "Service was just okay. I think I was dying of sweat and tears halfway through our meal, but it took a while for the server to come and ask if we wanted more tea or some iced water. However, given how delicious the food was, I wish I had come back here a second time before returning to California. Will definitely recommend this place to my friends back home!\n",
      "cluster 1:\n",
      "rating: 5.000000\n",
      "       Sushitarians, add Hiroyoshi to your rotation, especially if you are the edomae/omakase style fan...NOT the yum-yum sauced, \"screaming orgasm\", \"Vegas Roll\", \"Tastes Like My Ex-Girlfriend\" kind of Western style sushi fan, you'll be sorely disappointed!  I'm surprised this place isn't busier, as really great sushi is being made here.\n",
      "\n",
      "Great service and quality ingredients are what you'll experience here. We met up with fellow San Diego Yelper Debbie S. and her friend to have dinner before they flew out, and Debbie suggested Hiroyoshi, and I've had it bookmarked for awhile, so that was our plan. \n",
      "\n",
      "My suggestion to you? Order the Omakase, sit right up in front of Chef Hiro, and enjoy the show, as well as his creations as he assembles course after course. You can customize your omakase, but the $85, all-inclusive package is the way to go. It includes an assortment of appetizers, a few cooked items, an assorted sashimi platter, great nigiri assortment, and a dessert trio to finish. My pictures do not lie, but pictures also don't do justice... you gotta experience it live!\n",
      "\n",
      "HOT TIP: If you don't see a certain item on the menu, don't be afraid to ask...I LOVE Uni and ankimo, so I inquired about it...Our waitress was surprised that I liked Monkfish Liver, and I was also happy to know that they had Hokkaido Uni from Japan, which both made an appearace in my omakase experience. Definitely a must when dining in Vegas!  ALOHA!!!\n",
      "\n",
      "Shaka Meter:  \\uuu/  \\uuu/  \\uuu/  \\uuu/  \\uuu/  5\n",
      "rating: 5.000000\n",
      "       From the moment we walked in the door I knew we had made the right choice to dine. The atmosphere was perfect, beautiful decor, ambient lighting. The hostess was gorgeous and friendly, she sat us immediately. We were greeted with our waiter shortly after. He made excellent recommendations on the wine and food, which was phenomenal!!! The bolignase was by far the best I ever had. During our short wait for our food, the manager Brian N came and introduced himself, he made sure our experience was that much more special. We will definitely be returning. If you want amazing food and atmosphere.at reasonable prices Salute is a perfect choice.\n",
      "rating: 5.000000\n",
      "       This is probably my favorite Persian cuisine resturant in Vegas. The place is nicely decorated and very clean. I am very impressed   with their food: the portions are huge and the food is delicious. I have tried their lamb shank and beef kebab....Amazing!\n"
     ]
    }
   ],
   "source": [
    "# To be implemented\n",
    "for i in range(kmeans.n_clusters):\n",
    "    cluster = indices_test[assigned_cluster_test==i]\n",
    "    sample_reviews = np.random.choice(cluster, 3, replace=False)\n",
    "    print(\"cluster %d:\" % i)\n",
    "    for review in sample_reviews:\n",
    "        print(\"rating: %f\" % df.loc[review]['stars'])\n",
    "        print(\"       %s\" % df.loc[review]['text'])"
   ]
  },
  {
   "cell_type": "markdown",
   "metadata": {},
   "source": [
    "##### Rating and reveiw of random sample using n_clusters=5"
   ]
  },
  {
   "cell_type": "code",
   "execution_count": 35,
   "metadata": {
    "scrolled": false
   },
   "outputs": [
    {
     "name": "stdout",
     "output_type": "stream",
     "text": [
      "cluster 0:\n",
      "rating: 2.000000\n",
      "       When you think of all the people that brought their traditions and recipes over from Mexico, you have to wonder if they ever envisioned them being desecrated by the man that brought you donkey sauce. \n",
      "\n",
      "As you enter you can feel the lard in the air. The skull decals and tattoo designs lining the walls makes you want to dress like you're in \"Sons of Anarchy\" while you dine here, although you come out lookin like \"Wild Hogs.\"\n",
      "\n",
      "On your way to the table you pass the Fieri gift shop, where you can stock up on all the great Guy swag and tribal bowling shirts. Your man cave will be lookin' fly when you get that flame print cutting board you always wanted.\n",
      "\n",
      "I don't think any item here can be made delicious by paying $2 extra to have it \"Changa'd\"\n",
      "But I figured why not go for it, I mean. Guy Fieri is a celebrity chef, his restaurant must have cuisine on par with the likes of other Food Network greats. \n",
      "\n",
      "Boy was I wrong, but I guess I wasn't aware nacho cheese sauce was a culinary trend right now. The highlight (I use that word loosely) of the meal was the \"trash can\" nachos. I can't complain about something that tastes like a 2 hour old nachos bel grande from taco bell.  \n",
      "\n",
      "I believe the name translates to drunk donkey. I think I rather get drunk and go to a donkey show in TJ than come here again. \n",
      "\n",
      "Two stars because it's at the Rio. That means I don't have to go far after this meal to hit the buffet and get a real meal.\n",
      "rating: 2.000000\n",
      "       First time here, it was during lunch time on a Saturday or Sunday I don't remember which, but my overall impression is this restaurant needs some serious training to their waiter and waitress, first of all, both of them spoke so soft I was having hard time hearing them, then I notice they don't really make eye contacts with you, for example the waitress brought utensil to my table and right before she put it down on my table other party called her and she just dropped the utensil off on table without any slightest eye contact and immediately look at the other party and go to them, then their combo portion is a little misleading, you can get either large rice bowl with small udon, or get large udon bowl with small rice.  We pick large rice with small udon, when we got the order, I was in shock....they are honest about the \"large bowl\", but the inside barely filled up 1/3 of the bowl, and they call it a large? My small udon even look bigger than their so-called large rice bowl.  I also ordered spicy udon soup, I asked them if they can make it mild spicy, the waitress spoke to me in super soft voice again \"the soup is premade already\", I can just tell she didn't even have effort to do the best she can to accommodate my request, I asked her nicely \"can't you ask the chef anyway?\" I saw her ran to chef and said \"spicy udon soup less spicy\" and the chest immediately said \"ok\", obviously chef was totally fine with it, but why did she have to shot me down with \"soup is premade already\" to cut it short, I'm just so disappointed about the whole service experience, is it really that hard to hire a decent waiter and waitress now a day?\n",
      "rating: 1.000000\n",
      "       Cheap price, catered to college student, but horrible service and management. Waited 45 min for takeout only to have them pack up my meal the second I approached the counter with receipt. Maybe you should realize something is wrong when they are staring at you from the table for half an hour.\n",
      "cluster 1:\n",
      "rating: 4.000000\n",
      "       We stopped by here because it was on the way home from visiting a friend and we had a coupon for it in our Entertainment book. Overall we thought the food was pretty good.\n",
      "\n",
      "Just so you know, this place is actually in a bar card Mr. G's and it is leased out of it like a lot of pizza places do, so don't bring the kids or expect the traditional restaurant experience. It's either eat at the bar or take it to go.\n",
      "\n",
      "The staff was friendly and the lady at the counter helped us order. She said the most popular things are the Johnny fries, Philly Cheesesteak and the pizza quesadillas, so that's what we got.\n",
      "\n",
      "The Philly was a little disappointing, only in that there was nothing really special about it. I've had better and had worse, and it was about as middle of the road and plain as a Philly can get. Considering it doesn't even come with fries I would not order it again or recommend it.\n",
      "\n",
      "The Johnny fries are fries topped with bacon and their garlic mayo. They were delicious, but the amount of fries they came with seemed a little light of a serving. I mentioned this on the way out and the staff said we can ask for extra fries for a small upcharge, which we would do if we ever ordered this again.\n",
      "\n",
      "The best think was the pizza quesadilla. I cant remember the name of the specific one we ordered but it was the one with pepperoni and sausage. I really enjoyed this and would come back for it. The Quesadilla was cooked nice and crispy on the outside and was stuffed with cheese and meat. It tasted great and the serving size was decent for the price.\n",
      "\n",
      "Also the bar itself had some decent priced beer specials, so have a beer while you wait and another while you eat. If your in the area and feel like some good bar food, I would check this place out.\n",
      "rating: 5.000000\n",
      "       Great service, pizza at a great price, wish they sold slices tell 2am but beggars can't be choosers. Probably one of the new spots for a pizza.\n",
      "rating: 3.000000\n",
      "       My boss asked me to order the office pizza. Phone service was great that's deserved +1 start they delivered fairly quick another star +1 for taste is +1 star quality of food ahhh, pizza was falling apart before it got to my plate it was not cut properly.  It looks like a disaster on my plate. Maybe it was just my luck. My boss wasn't so happy with me, but he still ate the food.\n",
      "cluster 2:\n",
      "rating: 5.000000\n",
      "       This is my 2nd time here at this place. so far i give it 5 stars.\n",
      "I got the Posole soup. not spicy. Just right. i have a hard time looking for Mexican food here in Las Vegas. So i was a little nerves trying this place. I think its my new favorite spot. super friendly service and quick check out (I only get 30 mins lunch time). not too busy great for online ordering and pick up in 10-20mins tops. great size meal portions.\n",
      "rating: 5.000000\n",
      "       Fantastic! If you're drinking wine, get a glass of the prisoner. Service is wonderful and the ambiance is very well, Vegas.\n",
      "rating: 5.000000\n",
      "       Acai Bowels are amazing! The staff is so friendly and the concept of the restaurant is something so different in Las Vegas than anything I've ever seen before! Love this place!\n",
      "cluster 3:\n",
      "rating: 5.000000\n",
      "       Awesome sushi. Love the nutterpillar roll, and cucumber salad. Higher quality than most sushi restaurants I have tried. Yellowtail ponzu is also great!\n",
      "rating: 5.000000\n",
      "       Better sushi than I expected. Great quick bite. Shrimp tempura roll. Check this place out if you want something quick and good.\n",
      "rating: 5.000000\n",
      "       I recently went to dinner here with some friends, and it was a great dining experience. As soon as you enter the restaurant, the ambience is very welcoming and relaxing with a beautiful lounge and bar with great signature cocktails.  Our server, Aries, was so upbeat and informative and answered all our questions about the different items on the menu. He made many suggestions, and we thoroughly enjoyed all of his recommendations. The sushi was so fresh and delectable especially the Morimoto Sushi! We also enjoyed the Carpaccio and  Seared Wagyu! The highlight of my night was when Aries served us the dessert... the Chocolate Tarte! Just wow! Awesome food and exceptional service!\n",
      "cluster 4:\n",
      "rating: 5.000000\n",
      "       Have visited this place multiple times, during the day, afternoon, and evening, during the weekends and weekdays.\n",
      "\n",
      "Atmosphere: Comfortable!\n",
      "There is definitely a strong Asian-theme going on with the decor, but it's never at any point overpowering. There is enough to look at if you look up once in a while, but nothing distracting. The chairs are nice and the music played is not too loud.\n",
      "\n",
      "Service: Quick!\n",
      "The servers are polite, ask you when you're ready to order, and the food is brought to your table in a timely manner. The bathroom is nice, too: lots of toilet paper, and even cleaning supplies!\n",
      "\n",
      "Food: Amazing variety\n",
      "I usually go for tea, but their hot dishes are definitely on point, too! the presentation of the hot food is very neat and visually appealing. Cold drinks are cold and hot drinks... well, never had a hot drink, actually.\n",
      "\n",
      "Summary: Worth a shot!\n",
      "This is my go-to spot for boba and Asian-flavored tea. A must go for anyone who is a fan or wants to try some exotic tea flavors.\n",
      "rating: 5.000000\n",
      "       OMG....this was the best chicken pot pie I have ever had.  Loved the mini pie just enough for one.  Love this place.\n",
      "rating: 2.000000\n",
      "       Very disappointed in their new menu. No more grilled fish tacos or green rice. No more quac made at the table. Food was ok but more assembly line instead of prepared to order. Shame as this was a really good place.\n"
     ]
    }
   ],
   "source": [
    "# To be implemented\n",
    "for i in range(kmeans2.n_clusters):\n",
    "    cluster = indices[assigned_cluster_all2==i]\n",
    "    sample_reviews = np.random.choice(cluster, 3, replace=False)\n",
    "    print(\"cluster %d:\" % i)\n",
    "    for review in sample_reviews:\n",
    "        print(\"rating: %f\" % df.loc[review]['stars'])\n",
    "        print(\"       %s\" % df.loc[review]['text'])"
   ]
  },
  {
   "cell_type": "markdown",
   "metadata": {},
   "source": [
    "## 2. Cluster all the reviews of the most reviewed restaurant\n",
    "Let's find the most reviewed restaurant and analyze its reviews"
   ]
  },
  {
   "cell_type": "code",
   "execution_count": 38,
   "metadata": {},
   "outputs": [
    {
     "data": {
      "text/plain": [
       "0.50     292.0\n",
       "0.75     609.0\n",
       "0.90    1289.0\n",
       "Name: review_cnt, dtype: float64"
      ]
     },
     "execution_count": 38,
     "metadata": {},
     "output_type": "execute_result"
    }
   ],
   "source": [
    "df['review_cnt'] = df.groupby(['business_id'])['review_id'].transform('count')\n",
    "df['review_cnt'].quantile(q=[0.5,0.75,0.90])"
   ]
  },
  {
   "cell_type": "code",
   "execution_count": 39,
   "metadata": {},
   "outputs": [],
   "source": [
    "# Find the business who got most reviews, get your filtered df, name it df_top_restaurant\n",
    "df_top_restaurant = df[df['review_cnt']== df['review_cnt'].max()].copy()"
   ]
  },
  {
   "cell_type": "code",
   "execution_count": 40,
   "metadata": {},
   "outputs": [
    {
     "data": {
      "text/plain": [
       "RESDUcs7fIiihp38-d6_6g    4227\n",
       "Name: business_id, dtype: int64"
      ]
     },
     "execution_count": 40,
     "metadata": {},
     "output_type": "execute_result"
    }
   ],
   "source": [
    "df_top_restaurant['business_id'].value_counts()"
   ]
  },
  {
   "cell_type": "code",
   "execution_count": 41,
   "metadata": {},
   "outputs": [
    {
     "data": {
      "text/plain": [
       "(4227, 15)"
      ]
     },
     "execution_count": 41,
     "metadata": {},
     "output_type": "execute_result"
    }
   ],
   "source": [
    "df_top_restaurant.shape"
   ]
  },
  {
   "cell_type": "markdown",
   "metadata": {},
   "source": [
    "### Vectorize the text feature"
   ]
  },
  {
   "cell_type": "code",
   "execution_count": 42,
   "metadata": {},
   "outputs": [],
   "source": [
    "# Take the values of the column that contains review text data, save to a variable named \"documents_top_restaurant\"\n",
    "documents_top_restaurant = df_top_restaurant['text'].values"
   ]
  },
  {
   "cell_type": "markdown",
   "metadata": {},
   "source": [
    "### Define your target variable (for later classification use)"
   ]
  },
  {
   "cell_type": "markdown",
   "metadata": {},
   "source": [
    "#### Again, we look at perfect (5 stars) and imperfect (1-4 stars) rating"
   ]
  },
  {
   "cell_type": "code",
   "execution_count": 43,
   "metadata": {},
   "outputs": [],
   "source": [
    "# To be implemented\n",
    "df_top_restaurant['is_pos_review'] = (df_top_restaurant['stars']>4)\n",
    "df_top_restaurant['is_pos_review'].value_counts(normalize=True)\n",
    "target_top_restaurant = df_top_restaurant['is_pos_review'].values"
   ]
  },
  {
   "cell_type": "markdown",
   "metadata": {},
   "source": [
    "#### Check the statistic of the target variable"
   ]
  },
  {
   "cell_type": "code",
   "execution_count": 44,
   "metadata": {},
   "outputs": [
    {
     "data": {
      "text/plain": [
       "((4227,), (4227,))"
      ]
     },
     "execution_count": 44,
     "metadata": {},
     "output_type": "execute_result"
    }
   ],
   "source": [
    "# To be implemented\n",
    "target_top_restaurant.shape,documents_top_restaurant.shape"
   ]
  },
  {
   "cell_type": "code",
   "execution_count": 45,
   "metadata": {},
   "outputs": [],
   "source": [
    "indices_top_restaurant = df_top_restaurant.index"
   ]
  },
  {
   "cell_type": "markdown",
   "metadata": {},
   "source": [
    "### Create training dataset and test dataset"
   ]
  },
  {
   "cell_type": "code",
   "execution_count": 46,
   "metadata": {},
   "outputs": [],
   "source": [
    "from sklearn.cross_validation import train_test_split"
   ]
  },
  {
   "cell_type": "code",
   "execution_count": 47,
   "metadata": {},
   "outputs": [],
   "source": [
    "# documents_top_restaurant is your X, target_top_restaurant is your y\n",
    "# Now split the data to training set and test set\n",
    "# Now your data is smaller, you can use a typical \"test_size\", e.g. 0.3-0.7\n",
    "doc_top_train,doc_top_test,tar_top_train,tar_top_test,ind_top_train,ind_top_test = train_test_split(documents_top_restaurant,target_top_restaurant,indices_top_restaurant,test_size=0.3,random_state=0)"
   ]
  },
  {
   "cell_type": "markdown",
   "metadata": {},
   "source": [
    "### Get NLP representation of the documents"
   ]
  },
  {
   "cell_type": "code",
   "execution_count": 48,
   "metadata": {},
   "outputs": [],
   "source": [
    "from sklearn.feature_extraction.text import TfidfVectorizer"
   ]
  },
  {
   "cell_type": "code",
   "execution_count": 49,
   "metadata": {},
   "outputs": [],
   "source": [
    "# Create TfidfVectorizer, and name it vectorizer\n",
    "top_vectorizer = TfidfVectorizer(stop_words='english',max_features=1000,min_df=1)"
   ]
  },
  {
   "cell_type": "code",
   "execution_count": 50,
   "metadata": {},
   "outputs": [],
   "source": [
    "# Train the model with your training data\n",
    "X_train_top=top_vectorizer.fit_transform(doc_top_train).toarray()"
   ]
  },
  {
   "cell_type": "code",
   "execution_count": 51,
   "metadata": {},
   "outputs": [],
   "source": [
    "# Get the vocab of your tfidf\n",
    "top_features_name = top_vectorizer.get_feature_names()"
   ]
  },
  {
   "cell_type": "code",
   "execution_count": 52,
   "metadata": {},
   "outputs": [],
   "source": [
    "# Use the trained model to transform the test data\n",
    "X_test_top=top_vectorizer.transform(doc_top_test).toarray()"
   ]
  },
  {
   "cell_type": "code",
   "execution_count": 53,
   "metadata": {},
   "outputs": [],
   "source": [
    "# Use the trained model to transform all the data\n",
    "X_all_top=top_vectorizer.transform(documents_top_restaurant).toarray()"
   ]
  },
  {
   "cell_type": "markdown",
   "metadata": {},
   "source": [
    "### Cluster reviews with KMeans"
   ]
  },
  {
   "cell_type": "markdown",
   "metadata": {},
   "source": [
    "#### Fit k-means clustering on the training vectors and make predictions on all data"
   ]
  },
  {
   "cell_type": "code",
   "execution_count": 54,
   "metadata": {},
   "outputs": [
    {
     "data": {
      "text/plain": [
       "KMeans(algorithm='auto', copy_x=True, init='k-means++', max_iter=300,\n",
       "    n_clusters=2, n_init=10, n_jobs=1, precompute_distances='auto',\n",
       "    random_state=42, tol=0.0001, verbose=0)"
      ]
     },
     "execution_count": 54,
     "metadata": {},
     "output_type": "execute_result"
    }
   ],
   "source": [
    "# To be implemented\n",
    "from sklearn.cluster import KMeans\n",
    "kmeans_top = KMeans(n_clusters=2,random_state=42)\n",
    "kmeans_top.fit(X_train_top)"
   ]
  },
  {
   "cell_type": "markdown",
   "metadata": {},
   "source": [
    "#### Make predictions on all your data"
   ]
  },
  {
   "cell_type": "code",
   "execution_count": 55,
   "metadata": {},
   "outputs": [],
   "source": [
    "# To be implemented\n",
    "assigned_cluster_all_top = kmeans_top.predict(X_all_top)"
   ]
  },
  {
   "cell_type": "markdown",
   "metadata": {},
   "source": [
    "#### Inspect the centroids"
   ]
  },
  {
   "cell_type": "code",
   "execution_count": 56,
   "metadata": {},
   "outputs": [
    {
     "name": "stdout",
     "output_type": "stream",
     "text": [
      "cluster centers:\n",
      "[[0.00412316 0.00798633 0.00248271 ... 0.00946455 0.00261443 0.00531457]\n",
      " [0.00368822 0.01001068 0.00309549 ... 0.00552936 0.0018602  0.00306911]]\n"
     ]
    }
   ],
   "source": [
    "# To be implemented\n",
    "print(\"cluster centers:\")\n",
    "print(kmeans_top.cluster_centers_)"
   ]
  },
  {
   "cell_type": "markdown",
   "metadata": {},
   "source": [
    "#### Find the top 10 features for each cluster."
   ]
  },
  {
   "cell_type": "code",
   "execution_count": 57,
   "metadata": {},
   "outputs": [
    {
     "name": "stdout",
     "output_type": "stream",
     "text": [
      "top features for each cluster:\n",
      "0: crab, buffet, good, legs, food, seafood, dessert, section, really, like\n",
      "1: food, buffet, vegas, best, wait, great, line, time, place, worth\n"
     ]
    }
   ],
   "source": [
    "# To be implemented\n",
    "top_centroids = kmeans_top.cluster_centers_.argsort()[:,-1:-11:-1]\n",
    "print(\"top features for each cluster:\")\n",
    "for num, centroid in enumerate(top_centroids):\n",
    "    print(\"%d: %s\" % (num, \", \".join(top_features_name[i] for i in centroid)))"
   ]
  },
  {
   "cell_type": "markdown",
   "metadata": {},
   "source": [
    "#### Print out the rating and review of a random sample of the reviews assigned to each cluster to get a sense of the cluster."
   ]
  },
  {
   "cell_type": "code",
   "execution_count": 58,
   "metadata": {},
   "outputs": [
    {
     "name": "stdout",
     "output_type": "stream",
     "text": [
      "cluster 0:\n",
      "rating: 5.000000\n",
      "       ****REVIEW #100 for ME!****\n",
      "\n",
      "Decided to review Bacchanal Buffet because it's a well known spot in Vegas and considered one of best buffets out there. Was here with some buddies for a bachelor party. I had been here before but never for dinner buffet. It was a busy Saturday so there was a bit of a line around 8pm. \n",
      "\n",
      "Price for dinner buffet including gratuity for our party was $74! It's a hefty price tag. Depends on who you ask if they feel it's overpriced or not. But it's Vegas go big or go home!! \n",
      "\n",
      "Personally, I think based on the selection of seafood, meats, BBQs and dessert they serve it relatively appropriate and customers flow in constantly. I think to really made the dinner buffet worth it you gotta go with the seafood and BBQ and meats item which seem to be what separates Bacchanal from other buffets. Must try items were the crab legs, the bone marrow, the BBQ ribs and the WAGYU beef! Lines get really long for the meats sections and it's understandable. \n",
      "\n",
      "My overall favorites here were the bone marrows and the BBQ ribs. So much flavor and tastes so bomb! The bone marrow was so tasty had to go back multiple times! The BBQ were so tender they come off so easily off the bone. Overall, I wouldn't be quick to say it's my favorite buffet in Vegas. It  definitely has all the characteristics for it to be at least top 5 Vegas buffet in my opinion. Thank you, Bacchanal! :P\n",
      "rating: 4.000000\n",
      "       Since my sisters and I only decided to try one buffet while we were in Vegas, I chose this one based on its dessert bar. Which did not disappoint! \n",
      "\n",
      "Our party of 3 ppl arrived during late brunch time and of course there was an extremely long line. The hostess walked us through their wait time process so we hung around the casino before returning less than an hour later. When we did, it didn't seem like they checked our ticket so I wondered if we could've returned a lot earlier so that we could eat sooner. \n",
      "\n",
      "The food and variety was good! I really enjoyed the hot king crab legs although I wish they had lobster. My group ended up staying through lunch and into dinner time where we got to see the menu change! This made it definitely worth as we were only charged for lunch time fees (~$40/person rather than supposed ~$55)! \n",
      "\n",
      "I probably spent the majority of my time eating ice cream and crab legs but my tummy couldn't be any more happier!\n",
      "rating: 3.000000\n",
      "       Review #125 - 2017\n",
      "\n",
      "After hearing some pretty good things about this buffet, I was quite excited to hear when my cousin told me that he was planning to have his 50th birthday dinner here.\n",
      "\n",
      "He's a Diamond card holder, whatever that means...but all I knew was I didn't have to wait in line when I showed up because he already made reservation for a party of 20+ in the back of the restaurant.\n",
      "\n",
      "The place is huge so they have a very wide selection, ranging from seafood to prime rib to Japanese to Italian.  The only downside is that when there's too many selections and they're all just ok, it gets kind of disappointing.  I always believed in quality over quantity.\n",
      "\n",
      "Honestly, nothing actually stood out to me.  I'm always one to take lots of pictures of food, but I took one look and said, \"I don't see anything that I'd actually come back for.\"  The only item that was even worth going back for seconds was the prime rib and the guy serving it was really stingy.  He cut such a small portion for each person that even the old man ahead of me asked him why he gave him such a small piece.\n",
      "\n",
      "For $49.99 a person, I'd say skip it!  I wish we'd gone to the Bellagio buffet instead.\n",
      "cluster 1:\n",
      "rating: 5.000000\n",
      "       This place by far is the very best in terms of quality and selection amongst other buffett places on the strip.\n",
      "\n",
      "No comparison and I have gone to many.\n",
      "\n",
      "It's not cheap but we'll worth the price IMO.\n",
      "rating: 5.000000\n",
      "       Great experience at this buffet, no lines too enter at all. My server Alvaro Gomez is one of the best servers I have had here in Las Vegas. The seafood station was absolutely amazing!!! Each station was amazing! Alvaro bought us steam crab legs and they were too die for! Absolutely the best buffet in town!\n",
      "rating: 4.000000\n",
      "       Long line, but lots of choices, seafood were fresh, food were tasty, tons of desserts to choses , Icecream was smooth n cream. Best buffet in town. The only down side was long line up, but I think it worth the wait.\n"
     ]
    }
   ],
   "source": [
    "# To be implemented\n",
    "for i in range(kmeans_top.n_clusters):\n",
    "    cluster = indices_top_restaurant[assigned_cluster_all_top==i]\n",
    "    sample_reviews = np.random.choice(cluster, 3, replace=False)\n",
    "    print(\"cluster %d:\" % i)\n",
    "    for review in sample_reviews:\n",
    "        print(\"rating: %f\" % df_top_restaurant.loc[review]['stars'])\n",
    "        print(\"       %s\" % df_top_restaurant.loc[review]['text'])"
   ]
  },
  {
   "cell_type": "markdown",
   "metadata": {},
   "source": [
    "## 3. Use PCA to reduce dimensionality"
   ]
  },
  {
   "cell_type": "markdown",
   "metadata": {},
   "source": [
    "### Stardardize features\n",
    "Your X_train and X_test"
   ]
  },
  {
   "cell_type": "code",
   "execution_count": 59,
   "metadata": {},
   "outputs": [],
   "source": [
    "from sklearn.preprocessing import StandardScaler\n",
    "\n",
    "# To be implemented\n",
    "scaler = StandardScaler()\n",
    "\n",
    "X_scaled_train = scaler.fit_transform(X_train)\n",
    "X_scaled_test = scaler.fit_transform(X_test)"
   ]
  },
  {
   "cell_type": "markdown",
   "metadata": {},
   "source": [
    "### Use PCA to transform data (train and test) and get princial components"
   ]
  },
  {
   "cell_type": "code",
   "execution_count": 60,
   "metadata": {},
   "outputs": [],
   "source": [
    "from sklearn.decomposition import PCA\n",
    "\n",
    "# Let's pick a n_components\n",
    "n_col = 50\n",
    "\n",
    "# To be implemented\n",
    "pca = PCA(n_components = n_col)\n",
    "\n",
    "train_components = pca.fit_transform(X_scaled_train)# fit: get V, lambda; transform: X_train*V\n",
    "test_components = pca.transform(X_scaled_test)\n"
   ]
  },
  {
   "cell_type": "code",
   "execution_count": 61,
   "metadata": {},
   "outputs": [
    {
     "name": "stdout",
     "output_type": "stream",
     "text": [
      "(447109, 50)\n",
      "(111778, 50)\n"
     ]
    }
   ],
   "source": [
    "print(train_components.shape)\n",
    "print(test_components.shape)"
   ]
  },
  {
   "cell_type": "code",
   "execution_count": 62,
   "metadata": {},
   "outputs": [
    {
     "name": "stdout",
     "output_type": "stream",
     "text": [
      "(50, 1000)\n"
     ]
    }
   ],
   "source": [
    "print(pca.components_.shape)"
   ]
  },
  {
   "cell_type": "markdown",
   "metadata": {},
   "source": [
    "### See how much (and how much percentage of) variance the principal components explain"
   ]
  },
  {
   "cell_type": "code",
   "execution_count": 63,
   "metadata": {},
   "outputs": [
    {
     "name": "stdout",
     "output_type": "stream",
     "text": [
      "(50,)\n",
      "[5.44949445 4.36027039 3.28665221 2.86361622 2.7060135  2.66256671\n",
      " 2.51776147 2.42470179 2.30138623 2.27090322 2.24367682 2.12989089\n",
      " 2.11111844 2.03479102 1.98201076 1.97620187 1.92747842 1.88558875\n",
      " 1.84446277 1.83346969 1.81867101 1.76686287 1.75945618 1.72655534\n",
      " 1.67992611 1.65149392 1.62632919 1.6152286  1.60015472 1.59856922\n",
      " 1.56571163 1.55814295 1.52358329 1.52002694 1.50963869 1.48614478\n",
      " 1.48056364 1.47003628 1.46104664 1.45534667 1.43668343 1.41247759\n",
      " 1.40010519 1.3883012  1.36145716 1.3489329  1.32974109 1.32673088\n",
      " 1.3216454  1.30829543]\n"
     ]
    }
   ],
   "source": [
    "# To be implemented\n",
    "print(pca.explained_variance_.shape)\n",
    "print(pca.explained_variance_)"
   ]
  },
  {
   "cell_type": "code",
   "execution_count": 64,
   "metadata": {},
   "outputs": [
    {
     "name": "stdout",
     "output_type": "stream",
     "text": [
      "(50,)\n",
      "[0.00544948 0.00436026 0.00328664 0.00286361 0.00270601 0.00266256\n",
      " 0.00251776 0.0024247  0.00230138 0.0022709  0.00224367 0.00212989\n",
      " 0.00211111 0.00203479 0.00198201 0.0019762  0.00192747 0.00188558\n",
      " 0.00184446 0.00183347 0.00181867 0.00176686 0.00175945 0.00172655\n",
      " 0.00167992 0.00165149 0.00162633 0.00161522 0.00160015 0.00159857\n",
      " 0.00156571 0.00155814 0.00152358 0.00152002 0.00150964 0.00148614\n",
      " 0.00148056 0.00147003 0.00146104 0.00145534 0.00143668 0.00141247\n",
      " 0.0014001  0.0013883  0.00136145 0.00134893 0.00132974 0.00132673\n",
      " 0.00132164 0.00130829]\n"
     ]
    }
   ],
   "source": [
    "# To be implemented\n",
    "print(pca.explained_variance_ratio_.shape)\n",
    "print(pca.explained_variance_ratio_)"
   ]
  },
  {
   "cell_type": "markdown",
   "metadata": {},
   "source": [
    "### Viz: plot proportion of variance explained with top principal components\n",
    "\n",
    "For clear display, you may start with plotting <=20 principal components"
   ]
  },
  {
   "cell_type": "code",
   "execution_count": 65,
   "metadata": {},
   "outputs": [],
   "source": [
    "# To be implemented\n",
    "import matplotlib.pyplot as plt\n",
    "%matplotlib inline\n",
    "plt.style.use(\"ggplot\")"
   ]
  },
  {
   "cell_type": "code",
   "execution_count": 66,
   "metadata": {},
   "outputs": [
    {
     "data": {
      "text/plain": [
       "Text(0,0.5,u'Variance Explained')"
      ]
     },
     "execution_count": 66,
     "metadata": {},
     "output_type": "execute_result"
    },
    {
     "data": {
      "image/png": "[encoded data removed]",
      "text/plain": [
       "<matplotlib.figure.Figure at 0x11652a510>"
      ]
     },
     "metadata": {},
     "output_type": "display_data"
    }
   ],
   "source": [
    "# To be implemented\n",
    "pca_range = np.arange(20) + 1\n",
    "explained_var_top20 = pca.explained_variance_[:20]\n",
    "\n",
    "pca_names = ['PCA_%s' % i for i in pca_range]\n",
    "\n",
    "plt.bar(pca_range, explained_var_top20, align='center')\n",
    "\n",
    "xticks = plt.xticks(pca_range, pca_names, rotation=90)\n",
    "\n",
    "plt.ylabel('Variance Explained')"
   ]
  },
  {
   "cell_type": "code",
   "execution_count": 67,
   "metadata": {},
   "outputs": [
    {
     "data": {
      "text/plain": [
       "Text(0,0.5,u'Proportion of Variance Explained')"
      ]
     },
     "execution_count": 67,
     "metadata": {},
     "output_type": "execute_result"
    },
    {
     "data": {
      "image/png": "[encoded data removed]",
      "text/plain": [
       "<matplotlib.figure.Figure at 0x1178538d0>"
      ]
     },
     "metadata": {},
     "output_type": "display_data"
    }
   ],
   "source": [
    "# To be implemented\n",
    "pca_range = np.arange(20) + 1\n",
    "explained_var_top20 = pca.explained_variance_ratio_[:20]\n",
    "\n",
    "pca_names = ['PCA_%s' % i for i in pca_range]\n",
    "\n",
    "plt.bar(pca_range, explained_var_top20, align='center')\n",
    "\n",
    "xticks = plt.xticks(pca_range, pca_names, rotation=90)\n",
    "\n",
    "plt.ylabel('Proportion of Variance Explained')"
   ]
  },
  {
   "cell_type": "markdown",
   "metadata": {},
   "source": [
    "## Classifying positive/negative review with PCA preprocessing"
   ]
  },
  {
   "cell_type": "markdown",
   "metadata": {},
   "source": [
    "### Helper Function"
   ]
  },
  {
   "cell_type": "code",
   "execution_count": 71,
   "metadata": {},
   "outputs": [],
   "source": [
    "from sklearn.metrics import precision_score,accuracy_score,recall_score,f1_score,roc_auc_score"
   ]
  },
  {
   "cell_type": "code",
   "execution_count": 72,
   "metadata": {},
   "outputs": [],
   "source": [
    "def get_performance_metrics(y_train, y_train_pred, y_test, y_test_pred, threshold=0.5):\n",
    "    metric_names = ['AUC','Accuracy','Precision','Recall','f1-score']\n",
    "    metric_values_train = [roc_auc_score(y_train, y_train_pred),\n",
    "                    accuracy_score(y_train, y_train_pred>threshold),\n",
    "                    precision_score(y_train, y_train_pred>threshold),\n",
    "                    recall_score(y_train, y_train_pred>threshold),\n",
    "                    f1_score(y_train, y_train_pred>threshold)\n",
    "                   ]\n",
    "    metric_values_test = [roc_auc_score(y_test, y_test_pred),\n",
    "                    accuracy_score(y_test, y_test_pred>threshold),\n",
    "                    precision_score(y_test, y_test_pred>threshold),\n",
    "                    recall_score(y_test, y_test_pred>threshold),\n",
    "                    f1_score(y_test, y_test_pred>threshold)\n",
    "                   ]\n",
    "    all_metrics = pd.DataFrame({'metrics':metric_names,\n",
    "                                'train':metric_values_train,\n",
    "                                'test':metric_values_test},columns=['metrics','train','test']).set_index('metrics')\n",
    "    print(all_metrics)"
   ]
  },
  {
   "cell_type": "code",
   "execution_count": 73,
   "metadata": {},
   "outputs": [],
   "source": [
    "#helper function to plot roc curve\n",
    "%matplotlib inline\n",
    "import matplotlib.pyplot as plt\n",
    "from sklearn.metrics import roc_curve, auc\n",
    "\n",
    "def plot_roc_curve(y_train, y_train_pred, y_test, y_test_pred):\n",
    "    roc_auc_train = roc_auc_score(y_train, y_train_pred)\n",
    "    fpr_train, tpr_train, _ = roc_curve(y_train, y_train_pred)\n",
    "\n",
    "    roc_auc_test = roc_auc_score(y_test, y_test_pred)\n",
    "    fpr_test, tpr_test, _ = roc_curve(y_test, y_test_pred)\n",
    "    plt.figure()\n",
    "    lw = 2\n",
    "    plt.plot(fpr_train, tpr_train, color='green',\n",
    "             lw=lw, label='ROC Train (AUC = %0.4f)' % roc_auc_train)\n",
    "    plt.plot(fpr_test, tpr_test, color='darkorange',\n",
    "             lw=lw, label='ROC Test (AUC = %0.4f)' % roc_auc_test)\n",
    "    plt.plot([0, 1], [0, 1], color='navy', lw=lw, linestyle='--')\n",
    "    plt.xlim([0.0, 1.0])\n",
    "    plt.ylim([0.0, 1.05])\n",
    "    plt.xlabel('False Positive Rate')\n",
    "    plt.ylabel('True Positive Rate')\n",
    "    plt.title('Receiver operating characteristic example')\n",
    "    plt.legend(loc=\"lower right\")\n",
    "    plt.show()"
   ]
  },
  {
   "cell_type": "code",
   "execution_count": 74,
   "metadata": {},
   "outputs": [],
   "source": [
    "# helper function to train models\n",
    "# define function to perform train, test, and get model performance\n",
    "def train_test_model(clf, X_train, y_train, X_test, y_test):\n",
    "    # Fit a model by providing X and y from training set\n",
    "    clf.fit(X_train, y_train)\n",
    "\n",
    "    # Make prediction on the training data\n",
    "    y_train_pred = clf.predict(X_train)\n",
    "    p_train_pred = clf.predict_proba(X_train)[:,1]\n",
    "\n",
    "    # Make predictions on test data\n",
    "    y_test_pred = clf.predict(X_test)\n",
    "    p_test_pred = clf.predict_proba(X_test)[:,1]\n",
    "\n",
    "    # print model results\n",
    "    get_performance_metrics(y_train, p_train_pred, y_test, p_test_pred)\n",
    "    plot_roc_curve(y_train, p_train_pred, y_test, p_test_pred)"
   ]
  },
  {
   "cell_type": "markdown",
   "metadata": {},
   "source": [
    "### Logistic Regression Classifier\n",
    "#### Use standardized tf-idf vectors as features"
   ]
  },
  {
   "cell_type": "code",
   "execution_count": 75,
   "metadata": {},
   "outputs": [
    {
     "data": {
      "text/plain": [
       "LogisticRegression(C=1.0, class_weight=None, dual=False, fit_intercept=True,\n",
       "          intercept_scaling=1, max_iter=100, multi_class='ovr', n_jobs=1,\n",
       "          penalty='l2', random_state=None, solver='liblinear', tol=0.0001,\n",
       "          verbose=0, warm_start=False)"
      ]
     },
     "execution_count": 75,
     "metadata": {},
     "output_type": "execute_result"
    }
   ],
   "source": [
    "# Build a Logistic Regression Classifier, train with standardized tf-idf vectors\n",
    "\n",
    "from sklearn.linear_model import LogisticRegression\n",
    "\n",
    "# To be implemented\n",
    "clf_lrc = LogisticRegression()\n",
    "\n",
    "clf_lrc.fit(X_scaled_train, target_train)"
   ]
  },
  {
   "cell_type": "code",
   "execution_count": 76,
   "metadata": {},
   "outputs": [
    {
     "name": "stdout",
     "output_type": "stream",
     "text": [
      "              train      test\n",
      "metrics                      \n",
      "AUC        0.904200  0.903739\n",
      "Accuracy   0.823215  0.822988\n",
      "Precision  0.808597  0.810161\n",
      "Recall     0.829105  0.827591\n",
      "f1-score   0.818723  0.818783\n"
     ]
    },
    {
     "data": {
      "image/png": "[encoded data removed]",
      "text/plain": [
       "<matplotlib.figure.Figure at 0x117853e10>"
      ]
     },
     "metadata": {},
     "output_type": "display_data"
    }
   ],
   "source": [
    "# Get score for training set & test set\n",
    "train_test_model(clf_lrc, X_scaled_train, target_train, X_scaled_test, target_test)"
   ]
  },
  {
   "cell_type": "markdown",
   "metadata": {},
   "source": [
    "#### Use (Stardardized + PCA) tf-idf vectors as features"
   ]
  },
  {
   "cell_type": "code",
   "execution_count": 77,
   "metadata": {},
   "outputs": [
    {
     "data": {
      "text/plain": [
       "LogisticRegression(C=1.0, class_weight=None, dual=False, fit_intercept=True,\n",
       "          intercept_scaling=1, max_iter=100, multi_class='ovr', n_jobs=1,\n",
       "          penalty='l2', random_state=None, solver='liblinear', tol=0.0001,\n",
       "          verbose=0, warm_start=False)"
      ]
     },
     "execution_count": 77,
     "metadata": {},
     "output_type": "execute_result"
    }
   ],
   "source": [
    "# Build a Logistic Regression Classifier, train with PCA tranformed X\n",
    "\n",
    "from sklearn.linear_model import LogisticRegression\n",
    "\n",
    "# To be implemented\n",
    "clf_lrc_pca = LogisticRegression()\n",
    "\n",
    "clf_lrc_pca.fit(X_scaled_train, target_train)"
   ]
  },
  {
   "cell_type": "code",
   "execution_count": 78,
   "metadata": {},
   "outputs": [
    {
     "name": "stdout",
     "output_type": "stream",
     "text": [
      "              train      test\n",
      "metrics                      \n",
      "AUC        0.885704  0.887447\n",
      "Accuracy   0.804511  0.807073\n",
      "Precision  0.790776  0.795028\n",
      "Recall     0.807705  0.809409\n",
      "f1-score   0.799151  0.802154\n"
     ]
    },
    {
     "data": {
      "image/png": "[encoded data removed]",
      "text/plain": [
       "<matplotlib.figure.Figure at 0x11ac36290>"
      ]
     },
     "metadata": {},
     "output_type": "display_data"
    }
   ],
   "source": [
    "# Get score for training set & test set\n",
    "train_test_model(clf_lrc_pca, train_components, target_train, test_components, target_test)"
   ]
  },
  {
   "cell_type": "markdown",
   "metadata": {},
   "source": [
    "#### Q: What do you see from the training score and the test score? How do you compare the results from PCA and non-PCA preprocessing?"
   ]
  },
  {
   "cell_type": "markdown",
   "metadata": {},
   "source": [
    "##### Answer: \n",
    "1. In terms of running time, when using PCA preprocessing features to fit logistic model, it's much faster than non-PCA ones. The reason is that some data information is missing after PCA processing.\n",
    "2. In terms of scores(metrics), the PCA ones has lower scores. Comparing the difference between train score and testing score, PCA results has larger gap between test and train. One way to explain is that the model is likely to be overfitting, and thus larger gap between training metric and testing metric. "
   ]
  },
  {
   "cell_type": "markdown",
   "metadata": {},
   "source": [
    "#### You can plot the coefficients against principal components\n"
   ]
  },
  {
   "cell_type": "code",
   "execution_count": 79,
   "metadata": {},
   "outputs": [
    {
     "data": {
      "text/plain": [
       "array([-0.67206213, -0.07824163,  0.40076587, -0.17196298,  0.07222961,\n",
       "       -0.46158514, -0.32503299, -0.21122412, -0.01796515,  0.37864863,\n",
       "        0.22256784,  0.02463258,  0.15726432,  0.06183755,  0.03726377,\n",
       "        0.10406515, -0.14620519, -0.05435257,  0.01127462, -0.01166082,\n",
       "       -0.03173802, -0.18083171,  0.13935733, -0.14861146,  0.05562675,\n",
       "       -0.1181244 , -0.03652565, -0.11001932,  0.06335989, -0.01939466,\n",
       "        0.0245199 ,  0.00662704,  0.04850324,  0.03447571,  0.03201706,\n",
       "       -0.04455202, -0.13576835,  0.03437658, -0.01542787,  0.09158055,\n",
       "        0.08172503,  0.08835832,  0.05439852,  0.01858375,  0.0266826 ,\n",
       "        0.02069214, -0.03355266, -0.06119798,  0.08717128,  0.01885849])"
      ]
     },
     "execution_count": 79,
     "metadata": {},
     "output_type": "execute_result"
    }
   ],
   "source": [
    "# To be implemented\n",
    "clf_lrc_pca.coef_[0]"
   ]
  },
  {
   "cell_type": "code",
   "execution_count": 80,
   "metadata": {},
   "outputs": [
    {
     "data": {
      "text/plain": [
       "Text(0,0.5,u'Coefficients')"
      ]
     },
     "execution_count": 80,
     "metadata": {},
     "output_type": "execute_result"
    },
    {
     "data": {
      "image/png": "[encoded data removed]",
      "text/plain": [
       "<matplotlib.figure.Figure at 0x11ac36b90>"
      ]
     },
     "metadata": {},
     "output_type": "display_data"
    }
   ],
   "source": [
    "# To be implemented\n",
    "pca_range = np.arange(50) + 1\n",
    "\n",
    "pca_names = ['PCA_%s' % i for i in pca_range]\n",
    "\n",
    "plt.bar(pca_range, clf_lrc_pca.coef_[0], align='center')\n",
    "\n",
    "xticks = plt.xticks(pca_range, pca_names, rotation=90)\n",
    "\n",
    "plt.ylabel('Coefficients')"
   ]
  },
  {
   "cell_type": "markdown",
   "metadata": {},
   "source": [
    "### Random Forest Classifier\n",
    "#### Use standardized tf-idf vectors as features"
   ]
  },
  {
   "cell_type": "code",
   "execution_count": 81,
   "metadata": {},
   "outputs": [
    {
     "data": {
      "text/plain": [
       "RandomForestClassifier(bootstrap=True, class_weight=None, criterion='gini',\n",
       "            max_depth=20, max_features='auto', max_leaf_nodes=None,\n",
       "            min_impurity_decrease=0.0, min_impurity_split=None,\n",
       "            min_samples_leaf=100, min_samples_split=2,\n",
       "            min_weight_fraction_leaf=0.0, n_estimators=10, n_jobs=1,\n",
       "            oob_score=False, random_state=None, verbose=0,\n",
       "            warm_start=False)"
      ]
     },
     "execution_count": 81,
     "metadata": {},
     "output_type": "execute_result"
    }
   ],
   "source": [
    "# Build a Random Forest Classifier\n",
    "\n",
    "from sklearn.ensemble import RandomForestClassifier\n",
    "\n",
    "# To be implemented\n",
    "clf_rfc = RandomForestClassifier(max_depth=20, n_estimators=10, min_samples_leaf=100)\n",
    "\n",
    "clf_rfc.fit(X_scaled_train, target_train)"
   ]
  },
  {
   "cell_type": "code",
   "execution_count": 82,
   "metadata": {},
   "outputs": [
    {
     "name": "stdout",
     "output_type": "stream",
     "text": [
      "              train      test\n",
      "metrics                      \n",
      "AUC        0.855203  0.851532\n",
      "Accuracy   0.776426  0.774929\n",
      "Precision  0.766335  0.766393\n",
      "Recall     0.770656  0.768436\n",
      "f1-score   0.768490  0.767413\n"
     ]
    },
    {
     "data": {
      "image/png": "[encoded data removed]",
      "text/plain": [
       "<matplotlib.figure.Figure at 0x11c60c410>"
      ]
     },
     "metadata": {},
     "output_type": "display_data"
    }
   ],
   "source": [
    "# Get score for training set & test set\n",
    "train_test_model(clf_rfc, X_scaled_train, target_train, X_scaled_test, target_test)"
   ]
  },
  {
   "cell_type": "markdown",
   "metadata": {},
   "source": [
    "#### Use (Stardardized + PCA) tf-idf vectors as features"
   ]
  },
  {
   "cell_type": "code",
   "execution_count": 83,
   "metadata": {},
   "outputs": [
    {
     "data": {
      "text/plain": [
       "RandomForestClassifier(bootstrap=True, class_weight=None, criterion='gini',\n",
       "            max_depth=20, max_features='auto', max_leaf_nodes=None,\n",
       "            min_impurity_decrease=0.0, min_impurity_split=None,\n",
       "            min_samples_leaf=100, min_samples_split=2,\n",
       "            min_weight_fraction_leaf=0.0, n_estimators=10, n_jobs=1,\n",
       "            oob_score=False, random_state=None, verbose=0,\n",
       "            warm_start=False)"
      ]
     },
     "execution_count": 83,
     "metadata": {},
     "output_type": "execute_result"
    }
   ],
   "source": [
    "# Build a Random Forest Classifier\n",
    "\n",
    "from sklearn.ensemble import RandomForestClassifier\n",
    "\n",
    "# To be implemented\n",
    "clf_rfc_pca = RandomForestClassifier(max_depth=20, n_estimators=10, min_samples_leaf=100)\n",
    "\n",
    "clf_rfc_pca.fit(train_components, target_train)"
   ]
  },
  {
   "cell_type": "code",
   "execution_count": 84,
   "metadata": {},
   "outputs": [
    {
     "name": "stdout",
     "output_type": "stream",
     "text": [
      "              train      test\n",
      "metrics                      \n",
      "AUC        0.886250  0.868011\n",
      "Accuracy   0.800013  0.784895\n",
      "Precision  0.788207  0.775508\n",
      "Recall     0.799483  0.780878\n",
      "f1-score   0.793805  0.778184\n"
     ]
    },
    {
     "data": {
      "image/png": "[encoded data removed]",
      "text/plain": [
       "<matplotlib.figure.Figure at 0x11c07e5d0>"
      ]
     },
     "metadata": {},
     "output_type": "display_data"
    }
   ],
   "source": [
    "# Get score for training set & test set\n",
    "train_test_model(clf_rfc_pca, train_components, target_train, test_components, target_test)"
   ]
  },
  {
   "cell_type": "markdown",
   "metadata": {},
   "source": [
    "#### Q: What do you see from the training result and the test result?"
   ]
  },
  {
   "cell_type": "markdown",
   "metadata": {},
   "source": [
    "##### Answer: \n",
    "1. In terms of running time, when using PCA preprocessing features to fit logistic model, it's much faster than non-PCA ones. The reason is that some data information is missing after PCA processing.\n",
    "2. In terms of scores(metrics), the PCA ones has higher scores. Comparing the difference between train score and testing score, PCA results has larger gap between test and train. One way to explain is that the model is likely to be overfitting, and thus larger gap between training metric and testing metric."
   ]
  },
  {
   "cell_type": "markdown",
   "metadata": {},
   "source": [
    "#### You can plot the feature importances against principal components\n"
   ]
  },
  {
   "cell_type": "code",
   "execution_count": 85,
   "metadata": {},
   "outputs": [
    {
     "data": {
      "text/plain": [
       "array([0.41269456, 0.02989592, 0.08871885, 0.02757147, 0.01095489,\n",
       "       0.1143353 , 0.05022097, 0.0312899 , 0.00807559, 0.06345696,\n",
       "       0.01911769, 0.00290746, 0.00861363, 0.00447761, 0.00290958,\n",
       "       0.00904642, 0.00578622, 0.00473921, 0.00333476, 0.00308537,\n",
       "       0.00422307, 0.01439896, 0.00711131, 0.00886146, 0.00315346,\n",
       "       0.00339733, 0.00227126, 0.00473706, 0.00204406, 0.00353083,\n",
       "       0.00326579, 0.00181067, 0.00357608, 0.00252898, 0.00291354,\n",
       "       0.00182909, 0.00457718, 0.00179598, 0.00158494, 0.00285298,\n",
       "       0.0021624 , 0.00210432, 0.00218971, 0.00148379, 0.00137781,\n",
       "       0.00146035, 0.00132458, 0.00286669, 0.00219398, 0.00113999])"
      ]
     },
     "execution_count": 85,
     "metadata": {},
     "output_type": "execute_result"
    }
   ],
   "source": [
    "# To be implemented\n",
    "clf_rfc_pca.feature_importances_"
   ]
  },
  {
   "cell_type": "code",
   "execution_count": 86,
   "metadata": {},
   "outputs": [
    {
     "data": {
      "text/plain": [
       "Text(0,0.5,u'feature importance')"
      ]
     },
     "execution_count": 86,
     "metadata": {},
     "output_type": "execute_result"
    },
    {
     "data": {
      "image/png": "[encoded data removed]",
      "text/plain": [
       "<matplotlib.figure.Figure at 0x118a74850>"
      ]
     },
     "metadata": {},
     "output_type": "display_data"
    }
   ],
   "source": [
    "pca_range = np.arange(50) + 1\n",
    "\n",
    "pca_names = ['PCA_%s' % i for i in pca_range]\n",
    "\n",
    "plt.bar(pca_range, clf_rfc_pca.feature_importances_, align='center')\n",
    "\n",
    "xticks = plt.xticks(pca_range, pca_names, rotation=90)\n",
    "\n",
    "plt.ylabel('feature importance')"
   ]
  }
 ],
 "metadata": {
  "anaconda-cloud": {},
  "kernelspec": {
   "display_name": "Python 2",
   "language": "python",
   "name": "python2"
  },
  "language_info": {
   "codemirror_mode": {
    "name": "ipython",
    "version": 2
   },
   "file_extension": ".py",
   "mimetype": "text/x-python",
   "name": "python",
   "nbconvert_exporter": "python",
   "pygments_lexer": "ipython2",
   "version": "2.7.15"
  }
 },
 "nbformat": 4,
 "nbformat_minor": 1
}
